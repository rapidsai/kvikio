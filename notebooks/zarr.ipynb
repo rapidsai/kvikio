{
 "cells": [
  {
   "cell_type": "code",
   "execution_count": 1,
   "id": "7a060f7d-9a0c-4763-98df-7dc82409c6ba",
   "metadata": {},
   "outputs": [],
   "source": [
    "\"\"\"\n",
    "In this tutorial, we will show how to use KvikIO to read and write GPU memory directly to/from Zarr files.\n",
    "\"\"\"\n",
    "import shutil\n",
    "import cupy\n",
    "import zarr\n",
    "import kvikio\n",
    "import kvikio.zarr"
   ]
  },
  {
   "cell_type": "markdown",
   "id": "99f4d25b-2006-4026-8629-1accafb338ef",
   "metadata": {},
   "source": [
    "We need to set three Zarr arguments: \n",
    " - `meta_array`: in order to make Zarr read into GPU memory (instead of CPU memory), we set the `meta_array` argument to an empty CuPy array. \n",
    " - `store`: we need to use a GPU compatible Zarr Store, which will be KvikIO’s GDS store in our case. \n",
    " - `compressor`: finally, we need to use a GPU compatible compressor (or `None`). KvikIO provides a collection of nvCOMP compressor in `kvikio.zarr.nvcomp_compressors`."
   ]
  },
  {
   "cell_type": "code",
   "execution_count": 2,
   "id": "2b10a868-849b-4bd1-9a12-ba0ce81e57f5",
   "metadata": {},
   "outputs": [
    {
     "data": {
      "text/plain": [
       "[kvikio.zarr.ANS,\n",
       " kvikio.zarr.Bitcomp,\n",
       " kvikio.zarr.Cascaded,\n",
       " kvikio.zarr.Gdeflate,\n",
       " kvikio.zarr.LZ4,\n",
       " kvikio.zarr.Snappy]"
      ]
     },
     "execution_count": 2,
     "metadata": {},
     "output_type": "execute_result"
    }
   ],
   "source": [
    "kvikio.zarr.nvcomp_compressors"
   ]
  },
  {
   "cell_type": "code",
   "execution_count": 3,
   "id": "1a1c7aca-1642-4c8d-b8c3-3a338a763dc6",
   "metadata": {},
   "outputs": [
    {
     "data": {
      "text/plain": [
       "<zarr.core.Array (100,) int64>"
      ]
     },
     "execution_count": 3,
     "metadata": {},
     "output_type": "execute_result"
    }
   ],
   "source": [
    "# Let's create a new Zarr array using KvikIO's GDS store and Snappy compression\n",
    "z = zarr.array(\n",
    "    cupy.arange(100), \n",
    "    chunks=10, \n",
    "    store=kvikio.zarr.GDSStore(\"my-zarr-file.zarr\"), \n",
    "    meta_array=cupy.empty(()),\n",
    "    compressor=kvikio.zarr.Snappy(),\n",
    "    overwrite=True,\n",
    ")\n",
    "z"
   ]
  },
  {
   "cell_type": "code",
   "execution_count": 4,
   "id": "8c260c10-d01e-41e2-8dec-d0833d541310",
   "metadata": {},
   "outputs": [
    {
     "data": {
      "text/plain": [
       "cupy.ndarray"
      ]
     },
     "execution_count": 4,
     "metadata": {},
     "output_type": "execute_result"
    }
   ],
   "source": [
    "# And because we set the `meta_array` argument, reading the Zarr array returns a CuPy array\n",
    "type(z[:])"
   ]
  },
  {
   "cell_type": "markdown",
   "id": "549ded39-1053-4f82-a8a7-5a2ee999a4a1",
   "metadata": {},
   "source": [
    "From this point onwards, `z` can be used just like any other Zarr array."
   ]
  },
  {
   "cell_type": "code",
   "execution_count": 5,
   "id": "8221742d-f15c-450a-9701-dc8c05326126",
   "metadata": {},
   "outputs": [
    {
     "data": {
      "text/plain": [
       "array([1, 2, 3, 4, 5, 6, 7, 8])"
      ]
     },
     "execution_count": 5,
     "metadata": {},
     "output_type": "execute_result"
    }
   ],
   "source": [
    "z[1:9]"
   ]
  },
  {
   "cell_type": "code",
   "execution_count": 6,
   "id": "f0c451c1-a240-4b26-a5ef-6e70a5bbeb55",
   "metadata": {},
   "outputs": [
    {
     "data": {
      "text/plain": [
       "array([ 42,  43,  44,  45,  46,  47,  48,  49,  50,  51,  52,  53,  54,\n",
       "        55,  56,  57,  58,  59,  60,  61,  62,  63,  64,  65,  66,  67,\n",
       "        68,  69,  70,  71,  72,  73,  74,  75,  76,  77,  78,  79,  80,\n",
       "        81,  82,  83,  84,  85,  86,  87,  88,  89,  90,  91,  92,  93,\n",
       "        94,  95,  96,  97,  98,  99, 100, 101, 102, 103, 104, 105, 106,\n",
       "       107, 108, 109, 110, 111, 112, 113, 114, 115, 116, 117, 118, 119,\n",
       "       120, 121, 122, 123, 124, 125, 126, 127, 128, 129, 130, 131, 132,\n",
       "       133, 134, 135, 136, 137, 138, 139, 140, 141])"
      ]
     },
     "execution_count": 6,
     "metadata": {},
     "output_type": "execute_result"
    }
   ],
   "source": [
    "z[:] + 42"
   ]
  },
  {
   "cell_type": "code",
   "execution_count": 7,
   "id": "80682922-b7b0-4b08-b595-228c2b446a78",
   "metadata": {},
   "outputs": [],
   "source": [
    "# Clean up\n",
    "shutil.rmtree(\"my-zarr-file.zarr\", ignore_errors=True)"
   ]
  }
 ],
 "metadata": {
  "kernelspec": {
   "display_name": "Python 3 (ipykernel)",
   "language": "python",
   "name": "python3"
  },
  "language_info": {
   "codemirror_mode": {
    "name": "ipython",
    "version": 3
   },
   "file_extension": ".py",
   "mimetype": "text/x-python",
   "name": "python",
   "nbconvert_exporter": "python",
   "pygments_lexer": "ipython3",
   "version": "3.10.11"
  }
 },
 "nbformat": 4,
 "nbformat_minor": 5
}
