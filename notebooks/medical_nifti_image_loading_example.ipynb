{
 "cells": [
  {
   "cell_type": "markdown",
   "id": "99b73d7d",
   "metadata": {},
   "source": [
    "## Introduction\n",
    "\n",
    "This tutorial showcases how to use Kvikio to accelerate the loading of NIFTI images. We will also utilize the `nibabel` library to handle this medical image format.\n",
    "\n",
    "### Common Medical Image Formats\n",
    "\n",
    "Medical images are complex due to the extensive metadata they contain, which includes patient information, imaging parameters, and more.\n",
    "\n",
    "NIfTI (Neuroimaging Informatics Technology Initiative) is one of the most common formats:\n",
    "\n",
    "- **Description**: A popular format for storing brain imaging data, particularly in research settings. It is designed to store volumetric data and is often used in neuroimaging.\n",
    "- **Usage**: Widely used in neuroscience research and supported by many neuroimaging software packages.\n",
    "\n",
    "### Extra Library Used\n",
    "\n",
    "#### NiBabel\n",
    "- **Description**: A Python library for reading and writing medical image formats, particularly NIfTI and Analyze.\n",
    "- **Usage**: Commonly used in neuroimaging research for handling NIfTI files.\n",
    "\n",
    "### GPU Acceleration with Kvikio\n",
    "\n",
    "Kvikio is a powerful tool that leverages GPU acceleration to significantly speed up the loading and processing of medical images. In this tutorial, we will demonstrate how to use Kvikio to efficiently handle NIFTI images, providing a performance comparison between CPU and GPU processing.\n",
    "\n",
    "By the end of this tutorial, you will understand:\n",
    "- How to load NIFTI images using `nibabel`.\n",
    "- How to accelerate the loading and processing of these images using Kvikio.\n",
    "- The performance benefits of using GPU acceleration for medical image processing."
   ]
  },
  {
   "cell_type": "markdown",
   "id": "c45b7e8b",
   "metadata": {},
   "source": [
    "### Setup Environment"
   ]
  },
  {
   "cell_type": "code",
   "execution_count": 1,
   "id": "d2e043c2",
   "metadata": {},
   "outputs": [],
   "source": [
    "# Check if nibabel is installed, if not, install it\n",
    "!python -c \"import nibabel\" || pip install -q nibabel"
   ]
  },
  {
   "cell_type": "code",
   "execution_count": null,
   "id": "47d412b4",
   "metadata": {},
   "outputs": [],
   "source": [
    "import kvikio\n",
    "import kvikio.defaults\n",
    "import cupy as cp\n",
    "import numpy as np\n",
    "import tempfile\n",
    "import nibabel as nib\n",
    "import os\n",
    "import requests\n",
    "import tarfile\n",
    "import gzip\n",
    "import shutil\n",
    "import io\n",
    "from timeit import default_timer as timer"
   ]
  },
  {
   "cell_type": "markdown",
   "id": "b35ea6d3",
   "metadata": {},
   "source": [
    "### Warmup Kvikio"
   ]
  },
  {
   "cell_type": "code",
   "execution_count": 3,
   "id": "cc03538d",
   "metadata": {},
   "outputs": [],
   "source": [
    "def warmup_kvikio():\n",
    "    \"\"\"\n",
    "    Warm up the Kvikio library to initialize the internal buffers, cuFile, GDS, etc.\n",
    "    \"\"\"\n",
    "    # warmup cuFile\n",
    "    a = cp.arange(100)\n",
    "    with tempfile.NamedTemporaryFile() as tmp_file:\n",
    "        tmp_file_name = tmp_file.name\n",
    "        f = kvikio.CuFile(tmp_file_name, \"w\")\n",
    "        f.write(a)\n",
    "        f.close()\n",
    "\n",
    "        b = cp.empty_like(a)\n",
    "        f = kvikio.CuFile(tmp_file_name, \"r\")\n",
    "        f.read(b)\n",
    "\n",
    "    # warmup cupy\n",
    "    c = cp.random.rand(100, 100, 3)\n",
    "    d = cp.mean(c)\n",
    "\n",
    "warmup_kvikio()"
   ]
  },
  {
   "cell_type": "markdown",
   "id": "b1efcccc",
   "metadata": {},
   "source": [
    "### Set Kvikio Threads\n",
    "\n",
    "KvikIO can automatically use multiple threads for I/O operations. Setting the environment variable `KVIKIO_NTHREADS` to the desired number of threads may improve performance. In this tutorial, 4 threads are used. For more details, refer to the [official documentation](https://docs.rapids.ai/api/kvikio/nightly/runtime_settings/#thread-pool-kvikio-nthreads)."
   ]
  },
  {
   "cell_type": "code",
   "execution_count": 4,
   "id": "547213d4",
   "metadata": {},
   "outputs": [],
   "source": [
    "kvikio.defaults.num_threads_reset(nthreads=4)"
   ]
  },
  {
   "cell_type": "markdown",
   "id": "52790010",
   "metadata": {
    "vscode": {
     "languageId": "plaintext"
    }
   },
   "source": [
    "### NIFTI Data Preparation\n",
    "\n",
    "For NIFTI images, we will use the [MSD Spleen dataset](https://msd-for-monai.s3-us-west-2.amazonaws.com/Task09_Spleen.tar) from the [Medical Segmentation Decathlon](http://medicaldecathlon.com/dataaws/). This dataset is commonly used for training and evaluating medical image segmentation algorithms and provides a good example of volumetric medical imaging data.\n",
    "\n",
    "Larger datasets typically demonstrate more significant acceleration benefits when using GPU processing. If you are interested in comparing performance with a larger dataset, it is recommended to use images from the [MSD Liver dataset](https://msd-for-monai.s3-us-west-2.amazonaws.com/Task03_Liver.tar) for the following experiments. The MSD Liver dataset contains more extensive volumetric data, which can better showcase the advantages of GPU acceleration."
   ]
  },
  {
   "cell_type": "code",
   "execution_count": 5,
   "id": "45f893a0",
   "metadata": {},
   "outputs": [
    {
     "name": "stdout",
     "output_type": "stream",
     "text": [
      "Extraction completed! Files are saved in: /tmp/tmpcjecciqo\n"
     ]
    }
   ],
   "source": [
    "temp_working_dir = tempfile.mkdtemp()\n",
    "\n",
    "nifti_output_path = os.path.join(temp_working_dir, \"Task09_Spleen.tar\")\n",
    "url = \"https://msd-for-monai.s3-us-west-2.amazonaws.com/Task09_Spleen.tar\"\n",
    "response = requests.get(url, stream=True)\n",
    "with open(nifti_output_path, \"wb\") as file:\n",
    "    for chunk in response.iter_content(chunk_size=8192):\n",
    "        file.write(chunk)\n",
    "\n",
    "# Extract the contents\n",
    "with tarfile.open(nifti_output_path, \"r\") as tar:\n",
    "    tar.extractall(path=temp_working_dir)\n",
    "\n",
    "print(f\"Extraction completed! Files are saved in: {temp_working_dir}\")"
   ]
  },
  {
   "cell_type": "code",
   "execution_count": 6,
   "id": "028021e2",
   "metadata": {},
   "outputs": [
    {
     "name": "stdout",
     "output_type": "stream",
     "text": [
      "a decompressed nifti file is saved at:  /tmp/tmpcjecciqo/Task09_Spleen/imagesTr/spleen_53.nii\n"
     ]
    }
   ],
   "source": [
    "# decompress the nii.gz file\n",
    "example_nifti_path = os.path.join(temp_working_dir, \"Task09_Spleen\", \"imagesTr\", \"spleen_53.nii\")\n",
    "with gzip.open(example_nifti_path+\".gz\", \"rb\") as f_in:\n",
    "    with open(example_nifti_path, \"wb\") as f_out:\n",
    "        shutil.copyfileobj(f_in, f_out)\n",
    "print(\"a decompressed nifti file is saved at: \", example_nifti_path)"
   ]
  },
  {
   "cell_type": "markdown",
   "id": "d0374c01",
   "metadata": {},
   "source": [
    "### Test NIFTI Data Loading"
   ]
  },
  {
   "cell_type": "code",
   "execution_count": 7,
   "id": "fac454d7",
   "metadata": {},
   "outputs": [],
   "source": [
    "def nifti_gpu_load(filename):\n",
    "    file_size = os.path.getsize(filename)\n",
    "    image = cp.empty(file_size, dtype=cp.uint8)\n",
    "\n",
    "    with kvikio.CuFile(filename, \"r\") as f:\n",
    "        f.read(image)\n",
    "\n",
    "    header_bytes = cp.asnumpy(image[:348])\n",
    "    header = nib.Nifti1Header.from_fileobj(io.BytesIO(header_bytes))\n",
    "    data_offset = header.get_data_offset()\n",
    "    data_shape = header.get_data_shape()\n",
    "    data_dtype = header.get_data_dtype()\n",
    "    affine = header.get_best_affine()\n",
    "    meta = dict(header)\n",
    "    meta[\"affine\"] = affine\n",
    "    return image[data_offset:].view(data_dtype).reshape(data_shape, order=\"F\"), meta"
   ]
  },
  {
   "cell_type": "code",
   "execution_count": 8,
   "id": "006bcd54",
   "metadata": {},
   "outputs": [
    {
     "name": "stdout",
     "output_type": "stream",
     "text": [
      "(512, 512, 156) -474.2267\n",
      "Kvikio GPU loading time: 0.0505 seconds\n"
     ]
    }
   ],
   "source": [
    "# Measure Kvikio GPU loading time\n",
    "# the saved outputs are run with a Tesla V100-PCIE-16GB GPU\n",
    "start_gpu = timer()\n",
    "img_gpu, meta_gpu = nifti_gpu_load(example_nifti_path)\n",
    "print(img_gpu.shape, img_gpu.mean())\n",
    "end_gpu = timer()\n",
    "gpu_time = end_gpu - start_gpu\n",
    "print(f\"Kvikio GPU loading time: {gpu_time:.4f} seconds\")"
   ]
  },
  {
   "cell_type": "code",
   "execution_count": 9,
   "id": "d048fb3e",
   "metadata": {},
   "outputs": [
    {
     "name": "stdout",
     "output_type": "stream",
     "text": [
      "(512, 512, 156) -474.22673315879626\n",
      "Normal CPU loading time: 0.1699 seconds\n"
     ]
    }
   ],
   "source": [
    "# Measure CPU loading time\n",
    "start_cpu = timer()\n",
    "img_cpu = nib.load(example_nifti_path)\n",
    "img_cpu_array = img_cpu.get_fdata()\n",
    "print(img_cpu_array.shape, img_cpu_array.mean())\n",
    "end_cpu = timer()\n",
    "cpu_time = end_cpu - start_cpu\n",
    "print(f\"Normal CPU loading time: {cpu_time:.4f} seconds\")"
   ]
  },
  {
   "cell_type": "markdown",
   "id": "997a7116",
   "metadata": {},
   "source": [
    "### validate cpu and gpu data are close"
   ]
  },
  {
   "cell_type": "code",
   "execution_count": 10,
   "id": "72475fa5",
   "metadata": {},
   "outputs": [
    {
     "name": "stdout",
     "output_type": "stream",
     "text": [
      "True\n"
     ]
    }
   ],
   "source": [
    "# validate affine\n",
    "print(np.all(img_cpu.affine == meta_gpu[\"affine\"]))"
   ]
  },
  {
   "cell_type": "code",
   "execution_count": 11,
   "id": "784ee851",
   "metadata": {},
   "outputs": [
    {
     "name": "stdout",
     "output_type": "stream",
     "text": [
      "True\n"
     ]
    }
   ],
   "source": [
    "# validate array\n",
    "print(np.allclose(img_cpu_array, img_gpu))"
   ]
  },
  {
   "cell_type": "markdown",
   "id": "7422f5a6",
   "metadata": {},
   "source": [
    "### Cleanup tmp Directory"
   ]
  },
  {
   "cell_type": "code",
   "execution_count": 12,
   "id": "bc85278e",
   "metadata": {},
   "outputs": [],
   "source": [
    "shutil.rmtree(temp_working_dir)"
   ]
  }
 ],
 "metadata": {
  "kernelspec": {
   "display_name": "Python 3 (ipykernel)",
   "language": "python",
   "name": "python3"
  },
  "language_info": {
   "codemirror_mode": {
    "name": "ipython",
    "version": 3
   },
   "file_extension": ".py",
   "mimetype": "text/x-python",
   "name": "python",
   "nbconvert_exporter": "python",
   "pygments_lexer": "ipython3",
   "version": "3.10.12"
  }
 },
 "nbformat": 4,
 "nbformat_minor": 5
}
