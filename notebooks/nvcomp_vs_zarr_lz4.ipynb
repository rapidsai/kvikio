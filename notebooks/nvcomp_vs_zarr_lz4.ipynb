{
 "cells": [
  {
   "cell_type": "code",
   "execution_count": 1,
   "id": "f95b6759-533a-470b-8f08-5f91ebcea625",
   "metadata": {},
   "outputs": [],
   "source": [
    "import cudf\n",
    "import cupy as cp\n",
    "import kvikio\n",
    "import numpy as np\n",
    "import pandas as pd\n",
    "import time\n",
    "import zarr"
   ]
  },
  {
   "cell_type": "code",
   "execution_count": 2,
   "id": "d1e60a9b-0bca-4c66-b2f0-829acc3b1ba2",
   "metadata": {
    "scrolled": true,
    "tags": []
   },
   "outputs": [],
   "source": [
    "# conda install -c conda-forge zarr"
   ]
  },
  {
   "cell_type": "code",
   "execution_count": 3,
   "id": "2cedb529-c0fa-4883-a2fd-78b1ad3c1a59",
   "metadata": {},
   "outputs": [
    {
     "name": "stdout",
     "output_type": "stream",
     "text": [
      "[2013929216, 1006964608, 503482304, 251741152, 125870576, 62935288, 31467644, 15733822, 7866911, 3933455, 1966727, 983363, 491681, 245840, 122920, 61460, 30730, 15365, 7682, 3841]\n"
     ]
    }
   ],
   "source": [
    "HOST_LZ4_MAX = 2013929216 # 2113929216\n",
    "sizes = list(map(lambda x: HOST_LZ4_MAX//(2**x), np.arange(20)))\n",
    "print(sizes)"
   ]
  },
  {
   "cell_type": "code",
   "execution_count": 4,
   "id": "39483573-e79b-4dca-aee3-13bf392da3a7",
   "metadata": {},
   "outputs": [],
   "source": [
    "input_size = []\n",
    "cascaded_size = []\n",
    "cascaded_temp_size = []\n",
    "cascaded_round_trip_time = []\n",
    "lz4_gpu_size = []\n",
    "lz4_gpu_temp_size = []\n",
    "lz4_gpu_round_trip_time = []\n",
    "bitcomp_gpu_size = []\n",
    "bitcomp_gpu_temp_size = []\n",
    "bitcomp_gpu_round_trip_time = []\n",
    "lz4_size = []\n",
    "lz4_round_trip_time = []"
   ]
  },
  {
   "cell_type": "code",
   "execution_count": 5,
   "id": "ccd9b1e7-b607-4948-8256-73bedf1ec7a8",
   "metadata": {},
   "outputs": [],
   "source": [
    "# !wget 'http://textfiles.com/etext/NONFICTION/kjv10.txt'"
   ]
  },
  {
   "cell_type": "code",
   "execution_count": 6,
   "id": "4c9a5c4c-4c49-4834-8dc2-3e6fc11ea930",
   "metadata": {},
   "outputs": [],
   "source": [
    "text = open('kjv10.txt').read()\n",
    "bib = np.frombuffer(bytes(text, 'utf-8'), dtype=np.int8)\n",
    "data_buffer = np.tile(bib, 500)"
   ]
  },
  {
   "cell_type": "code",
   "execution_count": 46,
   "id": "74740819-b987-4012-ba6c-ed3d3b9afd60",
   "metadata": {},
   "outputs": [],
   "source": [
    "# One of the three below keys, this will set the arrangement of test data for a full run of the notebook.\n",
    "TARGET = \"Ascending\"\n",
    "DTYPE = cp.int32"
   ]
  },
  {
   "cell_type": "code",
   "execution_count": 52,
   "id": "0a1307ed-034c-4943-a7e1-36665cba8ad5",
   "metadata": {},
   "outputs": [],
   "source": [
    "data = {\n",
    "    \"Ascending\": np.arange(0, HOST_LZ4_MAX, dtype=np.int32),\n",
    "    \"Random\": np.random.randint(0, 100, HOST_LZ4_MAX, dtype=np.int32),\n",
    "    \"Text\": data_buffer\n",
    "}"
   ]
  },
  {
   "cell_type": "code",
   "execution_count": 53,
   "id": "68adbb33-ddb7-4603-8863-fdd25b8bdc51",
   "metadata": {},
   "outputs": [],
   "source": [
    "def get_host_data(offset, dtype):\n",
    "    exemplar = np.array([1], dtype=dtype)\n",
    "    print(offset)\n",
    "    print(exemplar.itemsize)\n",
    "    print(data[TARGET].itemsize)\n",
    "    index = offset // data[TARGET].itemsize\n",
    "    index = index - (index % exemplar.itemsize)\n",
    "    print(index)\n",
    "    return data[TARGET][0:index].view(dtype)"
   ]
  },
  {
   "cell_type": "code",
   "execution_count": 54,
   "id": "f067cdc2-ee14-4258-b89d-0bb4a224c698",
   "metadata": {},
   "outputs": [
    {
     "name": "stdout",
     "output_type": "stream",
     "text": [
      "2013929216\n",
      "4\n",
      "4\n",
      "503482304\n",
      "-----\n",
      "Input size:  2013929216\n",
      "Cascaded GPU compressor output size:  [62935448]\n",
      "Cascaded GPU decompressor temp size:  [6052279039]\n",
      "Cascaded GPU decompressor output size:  2013929216\n",
      "Cascaded GPU compress/decompress round trip time:  0.1048882007598877\n",
      "2021826967\n",
      "Lz4 zarr time:  3.9352803230285645\n",
      "Lz4 compressed size:  2021826967\n",
      "1006964608\n",
      "4\n",
      "4\n",
      "251741152\n",
      "-----\n",
      "Input size:  1006964608\n",
      "Cascaded GPU compressor output size:  [31467804]\n",
      "Cascaded GPU decompressor temp size:  [3026140543]\n",
      "Cascaded GPU decompressor output size:  1006964608\n",
      "Cascaded GPU compress/decompress round trip time:  0.14460277557373047\n",
      "1010913478\n",
      "Lz4 zarr time:  2.1057355403900146\n",
      "Lz4 compressed size:  1010913478\n",
      "503482304\n",
      "4\n",
      "4\n",
      "125870576\n",
      "-----\n",
      "Input size:  503482304\n",
      "Cascaded GPU compressor output size:  [15733984]\n",
      "Cascaded GPU decompressor temp size:  [1513071423]\n",
      "Cascaded GPU decompressor output size:  503482304\n",
      "Cascaded GPU compress/decompress round trip time:  0.0707552433013916\n",
      "505456734\n",
      "Lz4 zarr time:  1.0633468627929688\n",
      "Lz4 compressed size:  505456734\n",
      "251741152\n",
      "4\n",
      "4\n",
      "62935288\n",
      "-----\n",
      "Input size:  251741152\n",
      "Cascaded GPU compressor output size:  [7867072]\n",
      "Cascaded GPU decompressor temp size:  [756536735]\n",
      "Cascaded GPU decompressor output size:  251741152\n",
      "Cascaded GPU compress/decompress round trip time:  0.0377504825592041\n",
      "252728362\n",
      "Lz4 zarr time:  0.5211672782897949\n",
      "Lz4 compressed size:  252728362\n",
      "125870576\n",
      "4\n",
      "4\n",
      "31467644\n",
      "-----\n",
      "Input size:  125870576\n",
      "Cascaded GPU compressor output size:  [3933616]\n",
      "Cascaded GPU decompressor temp size:  [378269391]\n",
      "Cascaded GPU decompressor output size:  125870576\n",
      "Cascaded GPU compress/decompress round trip time:  0.020840883255004883\n",
      "126364175\n",
      "Lz4 zarr time:  0.26682281494140625\n",
      "Lz4 compressed size:  126364175\n",
      "62935288\n",
      "4\n",
      "4\n",
      "15733820\n",
      "-----\n",
      "Input size:  62935280\n",
      "Cascaded GPU compressor output size:  [1966888]\n",
      "Cascaded GPU decompressor temp size:  [189135823]\n",
      "Cascaded GPU decompressor output size:  62935280\n",
      "Cascaded GPU compress/decompress round trip time:  0.01086878776550293\n",
      "63182074\n",
      "Lz4 zarr time:  0.13455438613891602\n",
      "Lz4 compressed size:  63182074\n",
      "31467644\n",
      "4\n",
      "4\n",
      "7866908\n",
      "-----\n",
      "Input size:  31467632\n",
      "Cascaded GPU compressor output size:  [983524]\n",
      "Cascaded GPU decompressor temp size:  [94666064]\n",
      "Cascaded GPU decompressor output size:  31467632\n",
      "Cascaded GPU compress/decompress round trip time:  0.006772279739379883\n",
      "31591024\n",
      "Lz4 zarr time:  0.051115989685058594\n",
      "Lz4 compressed size:  31591024\n",
      "15733822\n",
      "4\n",
      "4\n",
      "3933452\n",
      "-----\n",
      "Input size:  15733808\n",
      "Cascaded GPU compressor output size:  [491844]\n",
      "Cascaded GPU decompressor temp size:  [47464592]\n",
      "Cascaded GPU decompressor output size:  15733808\n",
      "Cascaded GPU compress/decompress round trip time:  0.004179954528808594\n",
      "15795499\n",
      "Lz4 zarr time:  0.013217687606811523\n",
      "Lz4 compressed size:  15795499\n",
      "7866911\n",
      "4\n",
      "4\n",
      "1966724\n",
      "-----\n",
      "Input size:  7866896\n",
      "Cascaded GPU compressor output size:  [246004]\n",
      "Cascaded GPU decompressor temp size:  [23863856]\n",
      "Cascaded GPU decompressor output size:  7866896\n",
      "Cascaded GPU compress/decompress round trip time:  0.0025513172149658203\n",
      "7897736\n",
      "Lz4 zarr time:  0.008274316787719727\n",
      "Lz4 compressed size:  7897736\n",
      "3933455\n",
      "4\n",
      "4\n",
      "983360\n",
      "-----\n",
      "Input size:  3933440\n",
      "Cascaded GPU compressor output size:  [123080]\n",
      "Cascaded GPU decompressor temp size:  [12047232]\n",
      "Cascaded GPU decompressor output size:  3933440\n",
      "Cascaded GPU compress/decompress round trip time:  0.0017538070678710938\n",
      "3948855\n",
      "Lz4 zarr time:  0.004754781723022461\n",
      "Lz4 compressed size:  3948855\n",
      "1966727\n",
      "4\n",
      "4\n",
      "491680\n",
      "-----\n",
      "Input size:  1966720\n",
      "Cascaded GPU compressor output size:  [61620]\n",
      "Cascaded GPU decompressor temp size:  [6024128]\n",
      "Cascaded GPU decompressor output size:  1966720\n",
      "Cascaded GPU compress/decompress round trip time:  0.0016601085662841797\n",
      "1974422\n",
      "Lz4 zarr time:  0.002357959747314453\n",
      "Lz4 compressed size:  1974422\n",
      "983363\n",
      "4\n",
      "4\n",
      "245840\n",
      "-----\n",
      "Input size:  983360\n",
      "Cascaded GPU compressor output size:  [30892]\n",
      "Cascaded GPU decompressor temp size:  [3012608]\n",
      "Cascaded GPU decompressor output size:  983360\n",
      "Cascaded GPU compress/decompress round trip time:  0.0013320446014404297\n",
      "987206\n",
      "Lz4 zarr time:  0.0023124217987060547\n",
      "Lz4 compressed size:  987206\n",
      "491681\n",
      "4\n",
      "4\n",
      "122920\n",
      "-----\n",
      "Input size:  491680\n",
      "Cascaded GPU compressor output size:  [15528]\n",
      "Cascaded GPU decompressor temp size:  [1506848]\n",
      "Cascaded GPU decompressor output size:  491680\n",
      "Cascaded GPU compress/decompress round trip time:  0.0010962486267089844\n",
      "493597\n",
      "Lz4 zarr time:  0.0008330345153808594\n",
      "Lz4 compressed size:  493597\n",
      "245840\n",
      "4\n",
      "4\n",
      "61460\n",
      "-----\n",
      "Input size:  245840\n",
      "Cascaded GPU compressor output size:  [7844]\n",
      "Cascaded GPU decompressor temp size:  [631048]\n",
      "Cascaded GPU decompressor output size:  245840\n",
      "Cascaded GPU compress/decompress round trip time:  0.002778768539428711\n",
      "246793\n",
      "Lz4 zarr time:  0.002114534378051758\n",
      "Lz4 compressed size:  246793\n",
      "122920\n",
      "4\n",
      "4\n",
      "30728\n",
      "-----\n",
      "Input size:  122912\n",
      "Cascaded GPU compressor output size:  [4004]\n",
      "Cascaded GPU decompressor temp size:  [316048]\n",
      "Cascaded GPU decompressor output size:  122912\n",
      "Cascaded GPU compress/decompress round trip time:  0.0009338855743408203\n",
      "123383\n",
      "Lz4 zarr time:  0.0020563602447509766\n",
      "Lz4 compressed size:  123383\n",
      "61460\n",
      "4\n",
      "4\n",
      "15364\n",
      "-----\n",
      "Input size:  61456\n",
      "Cascaded GPU compressor output size:  [2084]\n",
      "Cascaded GPU decompressor temp size:  [158568]\n",
      "Cascaded GPU decompressor output size:  61456\n",
      "Cascaded GPU compress/decompress round trip time:  0.0009579658508300781\n",
      "61678\n",
      "Lz4 zarr time:  0.0016474723815917969\n",
      "Lz4 compressed size:  61678\n",
      "30730\n",
      "4\n",
      "4\n",
      "7680\n",
      "-----\n",
      "Input size:  30720\n",
      "Cascaded GPU compressor output size:  [1120]\n",
      "Cascaded GPU decompressor temp size:  [80132]\n",
      "Cascaded GPU decompressor output size:  30720\n",
      "Cascaded GPU compress/decompress round trip time:  0.0009214878082275391\n",
      "30822\n",
      "Lz4 zarr time:  0.0016307830810546875\n",
      "Lz4 compressed size:  30822\n",
      "15365\n",
      "4\n",
      "4\n",
      "3840\n",
      "-----\n",
      "Input size:  15360\n",
      "Cascaded GPU compressor output size:  [640]\n",
      "Cascaded GPU decompressor temp size:  [41732]\n",
      "Cascaded GPU decompressor output size:  15360\n",
      "Cascaded GPU compress/decompress round trip time:  0.0012125968933105469\n",
      "15401\n",
      "Lz4 zarr time:  0.001520395278930664\n",
      "Lz4 compressed size:  15401\n",
      "7682\n",
      "4\n",
      "4\n",
      "1920\n",
      "-----\n",
      "Input size:  7680\n",
      "Cascaded GPU compressor output size:  [400]\n",
      "Cascaded GPU decompressor temp size:  [22532]\n",
      "Cascaded GPU decompressor output size:  7680\n",
      "Cascaded GPU compress/decompress round trip time:  0.0011355876922607422\n",
      "7699\n",
      "Lz4 zarr time:  0.0013573169708251953\n",
      "Lz4 compressed size:  7699\n",
      "3841\n",
      "4\n",
      "4\n",
      "960\n",
      "-----\n",
      "Input size:  3840\n",
      "Cascaded GPU compressor output size:  [280]\n",
      "Cascaded GPU decompressor temp size:  [12932]\n",
      "Cascaded GPU decompressor output size:  3840\n",
      "Cascaded GPU compress/decompress round trip time:  0.0011224746704101562\n",
      "3852\n",
      "Lz4 zarr time:  0.0014193058013916016\n",
      "Lz4 compressed size:  3852\n"
     ]
    }
   ],
   "source": [
    "input_size = []\n",
    "cascaded_size = []\n",
    "cascaded_temp_size = []\n",
    "cascaded_round_trip_time = []\n",
    "lz4_gpu_size = []\n",
    "lz4_gpu_temp_size = []\n",
    "lz4_gpu_round_trip_time = []\n",
    "lz4_size = []\n",
    "lz4_round_trip_time = []\n",
    "for size in sizes:\n",
    "    data_host = get_host_data(size, DTYPE)\n",
    "    data_gpu = cp.array(data_host)\n",
    "    \"\"\"Cascaded GPU\"\"\"\n",
    "    t_gpu = time.time()\n",
    "    compressor = kvikio.nvcomp.CascadedCompressor(data_gpu.dtype)\n",
    "    compressed = compressor.compress(data_gpu)\n",
    "    output_size = compressor.compress_out_size\n",
    "    temp_size = compressor.compress_temp_size\n",
    "\n",
    "    decompressed = compressor.decompress(compressed)\n",
    "    decompressed_size = decompressed.size * decompressed.itemsize\n",
    "    input_size.append(data_gpu.size * data_gpu.itemsize)\n",
    "    cascaded_round_trip_time.append(time.time() - t_gpu)\n",
    "    cascaded_size.append(output_size.item())\n",
    "    cascaded_temp_size.append(temp_size[0])\n",
    "    print('-----')\n",
    "    print('Input size: ', data_gpu.size * data_gpu.itemsize)\n",
    "    print('Cascaded GPU compressor output size: ', output_size)\n",
    "    print('Cascaded GPU decompressor temp size: ', temp_size)\n",
    "    print('Cascaded GPU decompressor output size: ', decompressed_size)\n",
    "    print('Cascaded GPU compress/decompress round trip time: ',time.time() - t_gpu)\n",
    "    \n",
    "    del compressor\n",
    "        \n",
    "    \"\"\"LZ4 Host\"\"\"\n",
    "    lz4 = zarr.LZ4()\n",
    "    t_host = time.time()\n",
    "    host_compressed = lz4.encode(data_gpu.get())\n",
    "    del data_gpu\n",
    "    print(len(host_compressed))\n",
    "    host_compressed = host_compressed[:2113929216]\n",
    "    host_decompressed = lz4.decode(host_compressed)\n",
    "    print('Lz4 zarr time: ', time.time() - t_host)\n",
    "    print('Lz4 compressed size: ', len(host_compressed))\n",
    "    lz4_size.append(len(host_compressed))\n",
    "    lz4_round_trip_time.append(time.time() - t_host)"
   ]
  },
  {
   "cell_type": "code",
   "execution_count": 55,
   "id": "c981e8bc-e96a-4af4-9fe1-414aa2ff4c99",
   "metadata": {},
   "outputs": [
    {
     "name": "stdout",
     "output_type": "stream",
     "text": [
      "2013929216\n",
      "4\n",
      "4\n",
      "503482304\n",
      "lz4 GPU compressor output size:  [2022345688]\n",
      "lz4 GPU decompressor temp size:  [3030078135]\n",
      "lz4 GPU decompressor output size:  2013929216\n",
      "lz4 GPU compress/decompress round trip time:  0.2661285400390625\n",
      "1006964608\n",
      "4\n",
      "4\n",
      "251741152\n",
      "lz4 GPU compressor output size:  [1011205768]\n",
      "lz4 GPU decompressor temp size:  [1515088879]\n",
      "lz4 GPU decompressor output size:  1006964608\n",
      "lz4 GPU compress/decompress round trip time:  0.1546158790588379\n",
      "503482304\n",
      "4\n",
      "4\n",
      "125870576\n",
      "lz4 GPU compressor output size:  [505602904]\n",
      "lz4 GPU decompressor temp size:  [757544823]\n",
      "lz4 GPU decompressor output size:  503482304\n",
      "lz4 GPU compress/decompress round trip time:  0.08048176765441895\n",
      "251741152\n",
      "4\n",
      "4\n",
      "62935288\n",
      "lz4 GPU compressor output size:  [252834376]\n",
      "lz4 GPU decompressor temp size:  [378822223]\n",
      "lz4 GPU decompressor output size:  251741152\n",
      "lz4 GPU compress/decompress round trip time:  0.045432329177856445\n",
      "125870576\n",
      "4\n",
      "4\n",
      "31467644\n",
      "lz4 GPU compressor output size:  [126417208]\n",
      "lz4 GPU decompressor temp size:  [189411623]\n",
      "lz4 GPU decompressor output size:  125870576\n",
      "lz4 GPU compress/decompress round trip time:  0.025275707244873047\n",
      "62935288\n",
      "4\n",
      "4\n",
      "15733820\n",
      "lz4 GPU compressor output size:  [63241528]\n",
      "lz4 GPU decompressor temp size:  [94755623]\n",
      "lz4 GPU decompressor output size:  62935280\n",
      "lz4 GPU compress/decompress round trip time:  0.014865875244140625\n",
      "31467644\n",
      "4\n",
      "4\n",
      "7866908\n",
      "lz4 GPU compressor output size:  [31653688]\n",
      "lz4 GPU decompressor temp size:  [47427623]\n",
      "lz4 GPU decompressor output size:  31467632\n",
      "lz4 GPU compress/decompress round trip time:  0.010537385940551758\n",
      "15733822\n",
      "4\n",
      "4\n",
      "3933452\n",
      "lz4 GPU compressor output size:  [15859768]\n",
      "lz4 GPU decompressor temp size:  [23763623]\n",
      "lz4 GPU decompressor output size:  15733808\n",
      "lz4 GPU compress/decompress round trip time:  0.00794672966003418\n",
      "7866911\n",
      "4\n",
      "4\n",
      "1966724\n",
      "lz4 GPU compressor output size:  [7962808]\n",
      "lz4 GPU decompressor temp size:  [11931623]\n",
      "lz4 GPU decompressor output size:  7866896\n",
      "lz4 GPU compress/decompress round trip time:  0.005937099456787109\n",
      "3933455\n",
      "4\n",
      "4\n",
      "983360\n",
      "lz4 GPU compressor output size:  [4014328]\n",
      "lz4 GPU decompressor temp size:  [6015623]\n",
      "lz4 GPU decompressor output size:  3933440\n",
      "lz4 GPU compress/decompress round trip time:  0.004483222961425781\n",
      "1966727\n",
      "4\n",
      "4\n",
      "491680\n",
      "lz4 GPU compressor output size:  [2040088]\n",
      "lz4 GPU decompressor temp size:  [3057623]\n",
      "lz4 GPU decompressor output size:  1966720\n",
      "lz4 GPU compress/decompress round trip time:  0.0037987232208251953\n",
      "983363\n",
      "4\n",
      "4\n",
      "245840\n",
      "lz4 GPU compressor output size:  [1052968]\n",
      "lz4 GPU decompressor temp size:  [1578623]\n",
      "lz4 GPU decompressor output size:  983360\n",
      "lz4 GPU compress/decompress round trip time:  0.003450632095336914\n",
      "491681\n",
      "4\n",
      "4\n",
      "122920\n",
      "lz4 GPU compressor output size:  [526504]\n",
      "lz4 GPU decompressor temp size:  [789823]\n",
      "lz4 GPU decompressor output size:  491680\n",
      "lz4 GPU compress/decompress round trip time:  0.00302886962890625\n",
      "245840\n",
      "4\n",
      "4\n",
      "61460\n",
      "lz4 GPU compressor output size:  [263272]\n",
      "lz4 GPU decompressor temp size:  [395423]\n",
      "lz4 GPU decompressor output size:  245840\n",
      "lz4 GPU compress/decompress round trip time:  0.0030694007873535156\n",
      "122920\n",
      "4\n",
      "4\n",
      "30728\n",
      "lz4 GPU compressor output size:  [131656]\n",
      "lz4 GPU decompressor temp size:  [198223]\n",
      "lz4 GPU decompressor output size:  122912\n",
      "lz4 GPU compress/decompress round trip time:  0.0031507015228271484\n",
      "61460\n",
      "4\n",
      "4\n",
      "15364\n",
      "lz4 GPU compressor output size:  [65848]\n",
      "lz4 GPU decompressor temp size:  [99623]\n",
      "lz4 GPU decompressor output size:  61456\n",
      "lz4 GPU compress/decompress round trip time:  0.004156827926635742\n",
      "30730\n",
      "4\n",
      "4\n",
      "7680\n",
      "lz4 GPU compressor output size:  [65848]\n",
      "lz4 GPU decompressor temp size:  [99623]\n",
      "lz4 GPU decompressor output size:  30720\n",
      "lz4 GPU compress/decompress round trip time:  0.003288745880126953\n",
      "15365\n",
      "4\n",
      "4\n",
      "3840\n",
      "lz4 GPU compressor output size:  [65848]\n",
      "lz4 GPU decompressor temp size:  [99623]\n",
      "lz4 GPU decompressor output size:  15360\n",
      "lz4 GPU compress/decompress round trip time:  0.002794027328491211\n",
      "7682\n",
      "4\n",
      "4\n",
      "1920\n",
      "lz4 GPU compressor output size:  [65848]\n",
      "lz4 GPU decompressor temp size:  [99623]\n",
      "lz4 GPU decompressor output size:  7680\n",
      "lz4 GPU compress/decompress round trip time:  0.0024645328521728516\n",
      "3841\n",
      "4\n",
      "4\n",
      "960\n",
      "lz4 GPU compressor output size:  [65848]\n",
      "lz4 GPU decompressor temp size:  [99623]\n",
      "lz4 GPU decompressor output size:  3840\n",
      "lz4 GPU compress/decompress round trip time:  0.0022754669189453125\n"
     ]
    }
   ],
   "source": [
    "lz4_gpu_size = []\n",
    "lz4_gpu_temp_size = []\n",
    "lz4_gpu_round_trip_time = []\n",
    "for size in sizes:\n",
    "    data_host = get_host_data(size, DTYPE)\n",
    "    data_gpu = cp.array(data_host)\n",
    "\n",
    "    \"\"\"LZ4 GPU\"\"\"\n",
    "    data_gpu = cp.array(data_host)\n",
    "    t_gpu = time.time()\n",
    "    compressor = kvikio.nvcomp.LZ4Compressor(data_gpu.dtype)\n",
    "    compressed = compressor.compress(data_gpu)\n",
    "    output_size = compressor.compress_out_size\n",
    "    temp_size = compressor.compress_temp_size\n",
    "\n",
    "    decompressed = compressor.decompress(compressed)\n",
    "    decompressed_size = decompressed.size * decompressed.itemsize\n",
    "    lz4_gpu_round_trip_time.append(time.time() - t_gpu)\n",
    "    lz4_gpu_size.append(output_size.item())\n",
    "    lz4_gpu_temp_size.append(temp_size[0])\n",
    "    print('lz4 GPU compressor output size: ', output_size)\n",
    "    print('lz4 GPU decompressor temp size: ', temp_size)\n",
    "    print('lz4 GPU decompressor output size: ', decompressed_size)\n",
    "    print('lz4 GPU compress/decompress round trip time: ',time.time() - t_gpu)"
   ]
  },
  {
   "cell_type": "code",
   "execution_count": 56,
   "id": "0b9e6efb-439b-4d9e-b221-1a728adee7d6",
   "metadata": {},
   "outputs": [],
   "source": [
    "# zarr lz4 max buffer size is 264241152 int64s\n",
    "# zarr lz4 max buffer size is 2113929216 bytes\n",
    "# cascaded max buffer size is 2147483640 bytes\n",
    "# cascaded max buffer size is 268435456 int64s"
   ]
  },
  {
   "cell_type": "code",
   "execution_count": 57,
   "id": "9cd69f83-88de-4929-b760-b8ebfb916b8f",
   "metadata": {},
   "outputs": [
    {
     "name": "stdout",
     "output_type": "stream",
     "text": [
      "[2013929216, 1006964608, 503482304, 251741152, 125870576, 62935280, 31467632, 15733808, 7866896, 3933440, 1966720, 983360, 491680, 245840, 122912, 61456, 30720, 15360, 7680, 3840]\n",
      "[62935448, 31467804, 15733984, 7867072, 3933616, 1966888, 983524, 491844, 246004, 123080, 61620, 30892, 15528, 7844, 4004, 2084, 1120, 640, 400, 280]\n",
      "[6052279039, 3026140543, 1513071423, 756536735, 378269391, 189135823, 94666064, 47464592, 23863856, 12047232, 6024128, 3012608, 1506848, 631048, 316048, 158568, 80132, 41732, 22532, 12932]\n",
      "[0.10453486442565918, 0.14394426345825195, 0.06992387771606445, 0.037410736083984375, 0.0201261043548584, 0.010280132293701172, 0.00645756721496582, 0.003637552261352539, 0.0022423267364501953, 0.0014102458953857422, 0.0010056495666503906, 0.0008752346038818359, 0.0006618499755859375, 0.0024743080139160156, 0.0004992485046386719, 0.0005631446838378906, 0.0005333423614501953, 0.0007169246673583984, 0.0006380081176757812, 0.0006279945373535156]\n",
      "[2022345688, 1011205768, 505602904, 252834376, 126417208, 63241528, 31653688, 15859768, 7962808, 4014328, 2040088, 1052968, 526504, 263272, 131656, 65848, 65848, 65848, 65848, 65848]\n",
      "[3030078135, 1515088879, 757544823, 378822223, 189411623, 94755623, 47427623, 23763623, 11931623, 6015623, 3057623, 1578623, 789823, 395423, 198223, 99623, 99623, 99623, 99623, 99623]\n",
      "[0.26579856872558594, 0.1542949676513672, 0.07976341247558594, 0.045130252838134766, 0.024744272232055664, 0.014308691024780273, 0.009813308715820312, 0.00729823112487793, 0.005648136138916016, 0.004223346710205078, 0.0035610198974609375, 0.0032203197479248047, 0.0028107166290283203, 0.0028562545776367188, 0.0026934146881103516, 0.0039403438568115234, 0.003075838088989258, 0.0025780200958251953, 0.0022487640380859375, 0.002060413360595703]\n",
      "[2021826967, 1010913478, 505456734, 252728362, 126364175, 63182074, 31591024, 15795499, 7897736, 3948855, 1974422, 987206, 493597, 246793, 123383, 61678, 30822, 15401, 7699, 3852]\n",
      "[3.935403823852539, 2.1058623790740967, 1.0634825229644775, 0.5212867259979248, 0.2671701908111572, 0.13466548919677734, 0.05133819580078125, 0.013315200805664062, 0.008357763290405273, 0.0048389434814453125, 0.0025551319122314453, 0.002497434616088867, 0.0009024143218994141, 0.0021867752075195312, 0.002157449722290039, 0.0017437934875488281, 0.0017278194427490234, 0.0016427040100097656, 0.001478433609008789, 0.001542806625366211]\n"
     ]
    }
   ],
   "source": [
    "print(input_size)\n",
    "print(cascaded_size)\n",
    "print(cascaded_temp_size)\n",
    "print(cascaded_round_trip_time)\n",
    "print(lz4_gpu_size)\n",
    "print(lz4_gpu_temp_size)\n",
    "print(lz4_gpu_round_trip_time)\n",
    "print(lz4_size)\n",
    "print(lz4_round_trip_time)\n",
    "df = pd.DataFrame({\n",
    "    'Input Size (Bytes)': input_size,\n",
    "    'cascaded_size': cascaded_size,\n",
    "    'cascaded_temp_size': cascaded_temp_size,\n",
    "    'cascaded_round_trip_time': cascaded_round_trip_time,\n",
    "    'lz4_gpu_size': lz4_gpu_size,\n",
    "    'lz4_gpu_temp_size': lz4_gpu_temp_size,\n",
    "    'lz4_gpu_round_trip_time': lz4_gpu_round_trip_time,\n",
    "    'lz4_size': lz4_size,\n",
    "    'lz4_round_trip_time': lz4_round_trip_time\n",
    "})"
   ]
  },
  {
   "cell_type": "code",
   "execution_count": 58,
   "id": "c7a23383-a073-4156-9be6-9da6b8c9026e",
   "metadata": {},
   "outputs": [],
   "source": [
    "### You'll need the following to display the upcoming plots. ###\n",
    "\n",
    "# !conda install -c conda-forge plotly\n",
    "# !npm install require"
   ]
  },
  {
   "cell_type": "code",
   "execution_count": 59,
   "id": "8a7d2c60-79d7-4840-a5fb-c7e1eb42f829",
   "metadata": {},
   "outputs": [
    {
     "name": "stdout",
     "output_type": "stream",
     "text": [
      "Index(['Input Size (Bytes)', 'cascaded_size', 'cascaded_temp_size',\n",
      "       'cascaded_round_trip_time', 'lz4_gpu_size', 'lz4_gpu_temp_size',\n",
      "       'lz4_gpu_round_trip_time', 'lz4_size', 'lz4_round_trip_time',\n",
      "       'Cascaded Compression Ratio', 'Lz4 Gpu Compression Ratio',\n",
      "       'Lz4 Host Compression Ratio', 'Cascaded Temp Buffer Size Ratio',\n",
      "       'Lz4 Temp Buffer Size Ratio', 'Cascaded Speedup', 'Lz4 Gpu Speedup'],\n",
      "      dtype='object')\n"
     ]
    }
   ],
   "source": [
    "df['Cascaded Compression Ratio'] = df['Input Size (Bytes)'] / df['cascaded_size']\n",
    "df['Lz4 Gpu Compression Ratio'] = df['Input Size (Bytes)'] / df['lz4_gpu_size']\n",
    "df['Lz4 Host Compression Ratio'] = df['Input Size (Bytes)'] / df['lz4_size']\n",
    "df['Cascaded Temp Buffer Size Ratio'] = df['cascaded_temp_size'] / df['Input Size (Bytes)']\n",
    "df['Lz4 Temp Buffer Size Ratio'] = df['lz4_gpu_temp_size'] / df['Input Size (Bytes)']\n",
    "df['Cascaded Speedup'] = df['lz4_round_trip_time'] / df['cascaded_round_trip_time']\n",
    "df['Lz4 Gpu Speedup'] = df['lz4_round_trip_time'] / df['lz4_gpu_round_trip_time']\n",
    "print(df.columns)"
   ]
  },
  {
   "cell_type": "code",
   "execution_count": 60,
   "id": "8c6f225a-61e6-42b2-a991-6eeab56aae48",
   "metadata": {},
   "outputs": [
    {
     "data": {
      "application/vnd.plotly.v1+json": {
       "config": {
        "plotlyServerURL": "https://plot.ly"
       },
       "data": [
        {
         "hovertemplate": "variable=Cascaded Speedup<br>Input Size (Bytes)=%{x}<br>Multiple Faster=%{y}<extra></extra>",
         "legendgroup": "Cascaded Speedup",
         "line": {
          "color": "#636efa",
          "dash": "solid"
         },
         "marker": {
          "symbol": "circle"
         },
         "mode": "lines",
         "name": "Cascaded Speedup",
         "orientation": "v",
         "showlegend": true,
         "type": "scatter",
         "x": [
          2013929216,
          1006964608,
          503482304,
          251741152,
          125870576,
          62935280,
          31467632,
          15733808,
          7866896,
          3933440,
          1966720,
          983360,
          491680,
          245840,
          122912,
          61456,
          30720,
          15360,
          7680,
          3840
         ],
         "xaxis": "x",
         "y": [
          37.64680659868492,
          14.629706863482326,
          15.209146827967622,
          13.934147802589987,
          13.274808979446782,
          13.099587179368246,
          7.950083071810965,
          3.660483712394311,
          3.727272727272727,
          3.4312764158918005,
          2.540777619724988,
          2.85344592754018,
          1.3634726224783862,
          0.8837926382732704,
          4.321394460362942,
          3.096528365791702,
          3.2396066160035764,
          2.2913202527435983,
          2.3172645739910314,
          2.4567198177676537
         ],
         "yaxis": "y"
        },
        {
         "hovertemplate": "variable=Lz4 Gpu Speedup<br>Input Size (Bytes)=%{x}<br>Multiple Faster=%{y}<extra></extra>",
         "legendgroup": "Lz4 Gpu Speedup",
         "line": {
          "color": "#EF553B",
          "dash": "solid"
         },
         "marker": {
          "symbol": "circle"
         },
         "mode": "lines",
         "name": "Lz4 Gpu Speedup",
         "orientation": "v",
         "showlegend": true,
         "type": "scatter",
         "x": [
          2013929216,
          1006964608,
          503482304,
          251741152,
          125870576,
          62935280,
          31467632,
          15733808,
          7866896,
          3933440,
          1966720,
          983360,
          491680,
          245840,
          122912,
          61456,
          30720,
          15360,
          7680,
          3840
         ],
         "xaxis": "x",
         "y": [
          14.805963187542607,
          13.648289449286112,
          13.332961692053852,
          11.550715832849068,
          10.797253938430408,
          9.411447138215447,
          5.2314868804664725,
          1.8244421939825552,
          1.4797382861967074,
          1.1457604154905725,
          0.7175281199785752,
          0.7755238024727918,
          0.32106200695563664,
          0.7656093489148581,
          0.8010091174648136,
          0.44254855690687966,
          0.561739400046508,
          0.6371959678165171,
          0.6574427480916031,
          0.7487850034714186
         ],
         "yaxis": "y"
        }
       ],
       "layout": {
        "autosize": true,
        "legend": {
         "title": {
          "text": "variable"
         },
         "tracegroupgap": 0
        },
        "template": {
         "data": {
          "bar": [
           {
            "error_x": {
             "color": "#2a3f5f"
            },
            "error_y": {
             "color": "#2a3f5f"
            },
            "marker": {
             "line": {
              "color": "#E5ECF6",
              "width": 0.5
             },
             "pattern": {
              "fillmode": "overlay",
              "size": 10,
              "solidity": 0.2
             }
            },
            "type": "bar"
           }
          ],
          "barpolar": [
           {
            "marker": {
             "line": {
              "color": "#E5ECF6",
              "width": 0.5
             },
             "pattern": {
              "fillmode": "overlay",
              "size": 10,
              "solidity": 0.2
             }
            },
            "type": "barpolar"
           }
          ],
          "carpet": [
           {
            "aaxis": {
             "endlinecolor": "#2a3f5f",
             "gridcolor": "white",
             "linecolor": "white",
             "minorgridcolor": "white",
             "startlinecolor": "#2a3f5f"
            },
            "baxis": {
             "endlinecolor": "#2a3f5f",
             "gridcolor": "white",
             "linecolor": "white",
             "minorgridcolor": "white",
             "startlinecolor": "#2a3f5f"
            },
            "type": "carpet"
           }
          ],
          "choropleth": [
           {
            "colorbar": {
             "outlinewidth": 0,
             "ticks": ""
            },
            "type": "choropleth"
           }
          ],
          "contour": [
           {
            "colorbar": {
             "outlinewidth": 0,
             "ticks": ""
            },
            "colorscale": [
             [
              0,
              "#0d0887"
             ],
             [
              0.1111111111111111,
              "#46039f"
             ],
             [
              0.2222222222222222,
              "#7201a8"
             ],
             [
              0.3333333333333333,
              "#9c179e"
             ],
             [
              0.4444444444444444,
              "#bd3786"
             ],
             [
              0.5555555555555556,
              "#d8576b"
             ],
             [
              0.6666666666666666,
              "#ed7953"
             ],
             [
              0.7777777777777778,
              "#fb9f3a"
             ],
             [
              0.8888888888888888,
              "#fdca26"
             ],
             [
              1,
              "#f0f921"
             ]
            ],
            "type": "contour"
           }
          ],
          "contourcarpet": [
           {
            "colorbar": {
             "outlinewidth": 0,
             "ticks": ""
            },
            "type": "contourcarpet"
           }
          ],
          "heatmap": [
           {
            "colorbar": {
             "outlinewidth": 0,
             "ticks": ""
            },
            "colorscale": [
             [
              0,
              "#0d0887"
             ],
             [
              0.1111111111111111,
              "#46039f"
             ],
             [
              0.2222222222222222,
              "#7201a8"
             ],
             [
              0.3333333333333333,
              "#9c179e"
             ],
             [
              0.4444444444444444,
              "#bd3786"
             ],
             [
              0.5555555555555556,
              "#d8576b"
             ],
             [
              0.6666666666666666,
              "#ed7953"
             ],
             [
              0.7777777777777778,
              "#fb9f3a"
             ],
             [
              0.8888888888888888,
              "#fdca26"
             ],
             [
              1,
              "#f0f921"
             ]
            ],
            "type": "heatmap"
           }
          ],
          "heatmapgl": [
           {
            "colorbar": {
             "outlinewidth": 0,
             "ticks": ""
            },
            "colorscale": [
             [
              0,
              "#0d0887"
             ],
             [
              0.1111111111111111,
              "#46039f"
             ],
             [
              0.2222222222222222,
              "#7201a8"
             ],
             [
              0.3333333333333333,
              "#9c179e"
             ],
             [
              0.4444444444444444,
              "#bd3786"
             ],
             [
              0.5555555555555556,
              "#d8576b"
             ],
             [
              0.6666666666666666,
              "#ed7953"
             ],
             [
              0.7777777777777778,
              "#fb9f3a"
             ],
             [
              0.8888888888888888,
              "#fdca26"
             ],
             [
              1,
              "#f0f921"
             ]
            ],
            "type": "heatmapgl"
           }
          ],
          "histogram": [
           {
            "marker": {
             "pattern": {
              "fillmode": "overlay",
              "size": 10,
              "solidity": 0.2
             }
            },
            "type": "histogram"
           }
          ],
          "histogram2d": [
           {
            "colorbar": {
             "outlinewidth": 0,
             "ticks": ""
            },
            "colorscale": [
             [
              0,
              "#0d0887"
             ],
             [
              0.1111111111111111,
              "#46039f"
             ],
             [
              0.2222222222222222,
              "#7201a8"
             ],
             [
              0.3333333333333333,
              "#9c179e"
             ],
             [
              0.4444444444444444,
              "#bd3786"
             ],
             [
              0.5555555555555556,
              "#d8576b"
             ],
             [
              0.6666666666666666,
              "#ed7953"
             ],
             [
              0.7777777777777778,
              "#fb9f3a"
             ],
             [
              0.8888888888888888,
              "#fdca26"
             ],
             [
              1,
              "#f0f921"
             ]
            ],
            "type": "histogram2d"
           }
          ],
          "histogram2dcontour": [
           {
            "colorbar": {
             "outlinewidth": 0,
             "ticks": ""
            },
            "colorscale": [
             [
              0,
              "#0d0887"
             ],
             [
              0.1111111111111111,
              "#46039f"
             ],
             [
              0.2222222222222222,
              "#7201a8"
             ],
             [
              0.3333333333333333,
              "#9c179e"
             ],
             [
              0.4444444444444444,
              "#bd3786"
             ],
             [
              0.5555555555555556,
              "#d8576b"
             ],
             [
              0.6666666666666666,
              "#ed7953"
             ],
             [
              0.7777777777777778,
              "#fb9f3a"
             ],
             [
              0.8888888888888888,
              "#fdca26"
             ],
             [
              1,
              "#f0f921"
             ]
            ],
            "type": "histogram2dcontour"
           }
          ],
          "mesh3d": [
           {
            "colorbar": {
             "outlinewidth": 0,
             "ticks": ""
            },
            "type": "mesh3d"
           }
          ],
          "parcoords": [
           {
            "line": {
             "colorbar": {
              "outlinewidth": 0,
              "ticks": ""
             }
            },
            "type": "parcoords"
           }
          ],
          "pie": [
           {
            "automargin": true,
            "type": "pie"
           }
          ],
          "scatter": [
           {
            "marker": {
             "colorbar": {
              "outlinewidth": 0,
              "ticks": ""
             }
            },
            "type": "scatter"
           }
          ],
          "scatter3d": [
           {
            "line": {
             "colorbar": {
              "outlinewidth": 0,
              "ticks": ""
             }
            },
            "marker": {
             "colorbar": {
              "outlinewidth": 0,
              "ticks": ""
             }
            },
            "type": "scatter3d"
           }
          ],
          "scattercarpet": [
           {
            "marker": {
             "colorbar": {
              "outlinewidth": 0,
              "ticks": ""
             }
            },
            "type": "scattercarpet"
           }
          ],
          "scattergeo": [
           {
            "marker": {
             "colorbar": {
              "outlinewidth": 0,
              "ticks": ""
             }
            },
            "type": "scattergeo"
           }
          ],
          "scattergl": [
           {
            "marker": {
             "colorbar": {
              "outlinewidth": 0,
              "ticks": ""
             }
            },
            "type": "scattergl"
           }
          ],
          "scattermapbox": [
           {
            "marker": {
             "colorbar": {
              "outlinewidth": 0,
              "ticks": ""
             }
            },
            "type": "scattermapbox"
           }
          ],
          "scatterpolar": [
           {
            "marker": {
             "colorbar": {
              "outlinewidth": 0,
              "ticks": ""
             }
            },
            "type": "scatterpolar"
           }
          ],
          "scatterpolargl": [
           {
            "marker": {
             "colorbar": {
              "outlinewidth": 0,
              "ticks": ""
             }
            },
            "type": "scatterpolargl"
           }
          ],
          "scatterternary": [
           {
            "marker": {
             "colorbar": {
              "outlinewidth": 0,
              "ticks": ""
             }
            },
            "type": "scatterternary"
           }
          ],
          "surface": [
           {
            "colorbar": {
             "outlinewidth": 0,
             "ticks": ""
            },
            "colorscale": [
             [
              0,
              "#0d0887"
             ],
             [
              0.1111111111111111,
              "#46039f"
             ],
             [
              0.2222222222222222,
              "#7201a8"
             ],
             [
              0.3333333333333333,
              "#9c179e"
             ],
             [
              0.4444444444444444,
              "#bd3786"
             ],
             [
              0.5555555555555556,
              "#d8576b"
             ],
             [
              0.6666666666666666,
              "#ed7953"
             ],
             [
              0.7777777777777778,
              "#fb9f3a"
             ],
             [
              0.8888888888888888,
              "#fdca26"
             ],
             [
              1,
              "#f0f921"
             ]
            ],
            "type": "surface"
           }
          ],
          "table": [
           {
            "cells": {
             "fill": {
              "color": "#EBF0F8"
             },
             "line": {
              "color": "white"
             }
            },
            "header": {
             "fill": {
              "color": "#C8D4E3"
             },
             "line": {
              "color": "white"
             }
            },
            "type": "table"
           }
          ]
         },
         "layout": {
          "annotationdefaults": {
           "arrowcolor": "#2a3f5f",
           "arrowhead": 0,
           "arrowwidth": 1
          },
          "autotypenumbers": "strict",
          "coloraxis": {
           "colorbar": {
            "outlinewidth": 0,
            "ticks": ""
           }
          },
          "colorscale": {
           "diverging": [
            [
             0,
             "#8e0152"
            ],
            [
             0.1,
             "#c51b7d"
            ],
            [
             0.2,
             "#de77ae"
            ],
            [
             0.3,
             "#f1b6da"
            ],
            [
             0.4,
             "#fde0ef"
            ],
            [
             0.5,
             "#f7f7f7"
            ],
            [
             0.6,
             "#e6f5d0"
            ],
            [
             0.7,
             "#b8e186"
            ],
            [
             0.8,
             "#7fbc41"
            ],
            [
             0.9,
             "#4d9221"
            ],
            [
             1,
             "#276419"
            ]
           ],
           "sequential": [
            [
             0,
             "#0d0887"
            ],
            [
             0.1111111111111111,
             "#46039f"
            ],
            [
             0.2222222222222222,
             "#7201a8"
            ],
            [
             0.3333333333333333,
             "#9c179e"
            ],
            [
             0.4444444444444444,
             "#bd3786"
            ],
            [
             0.5555555555555556,
             "#d8576b"
            ],
            [
             0.6666666666666666,
             "#ed7953"
            ],
            [
             0.7777777777777778,
             "#fb9f3a"
            ],
            [
             0.8888888888888888,
             "#fdca26"
            ],
            [
             1,
             "#f0f921"
            ]
           ],
           "sequentialminus": [
            [
             0,
             "#0d0887"
            ],
            [
             0.1111111111111111,
             "#46039f"
            ],
            [
             0.2222222222222222,
             "#7201a8"
            ],
            [
             0.3333333333333333,
             "#9c179e"
            ],
            [
             0.4444444444444444,
             "#bd3786"
            ],
            [
             0.5555555555555556,
             "#d8576b"
            ],
            [
             0.6666666666666666,
             "#ed7953"
            ],
            [
             0.7777777777777778,
             "#fb9f3a"
            ],
            [
             0.8888888888888888,
             "#fdca26"
            ],
            [
             1,
             "#f0f921"
            ]
           ]
          },
          "colorway": [
           "#636efa",
           "#EF553B",
           "#00cc96",
           "#ab63fa",
           "#FFA15A",
           "#19d3f3",
           "#FF6692",
           "#B6E880",
           "#FF97FF",
           "#FECB52"
          ],
          "font": {
           "color": "#2a3f5f"
          },
          "geo": {
           "bgcolor": "white",
           "lakecolor": "white",
           "landcolor": "#E5ECF6",
           "showlakes": true,
           "showland": true,
           "subunitcolor": "white"
          },
          "hoverlabel": {
           "align": "left"
          },
          "hovermode": "closest",
          "mapbox": {
           "style": "light"
          },
          "paper_bgcolor": "white",
          "plot_bgcolor": "#E5ECF6",
          "polar": {
           "angularaxis": {
            "gridcolor": "white",
            "linecolor": "white",
            "ticks": ""
           },
           "bgcolor": "#E5ECF6",
           "radialaxis": {
            "gridcolor": "white",
            "linecolor": "white",
            "ticks": ""
           }
          },
          "scene": {
           "xaxis": {
            "backgroundcolor": "#E5ECF6",
            "gridcolor": "white",
            "gridwidth": 2,
            "linecolor": "white",
            "showbackground": true,
            "ticks": "",
            "zerolinecolor": "white"
           },
           "yaxis": {
            "backgroundcolor": "#E5ECF6",
            "gridcolor": "white",
            "gridwidth": 2,
            "linecolor": "white",
            "showbackground": true,
            "ticks": "",
            "zerolinecolor": "white"
           },
           "zaxis": {
            "backgroundcolor": "#E5ECF6",
            "gridcolor": "white",
            "gridwidth": 2,
            "linecolor": "white",
            "showbackground": true,
            "ticks": "",
            "zerolinecolor": "white"
           }
          },
          "shapedefaults": {
           "line": {
            "color": "#2a3f5f"
           }
          },
          "ternary": {
           "aaxis": {
            "gridcolor": "white",
            "linecolor": "white",
            "ticks": ""
           },
           "baxis": {
            "gridcolor": "white",
            "linecolor": "white",
            "ticks": ""
           },
           "bgcolor": "#E5ECF6",
           "caxis": {
            "gridcolor": "white",
            "linecolor": "white",
            "ticks": ""
           }
          },
          "title": {
           "x": 0.05
          },
          "xaxis": {
           "automargin": true,
           "gridcolor": "white",
           "linecolor": "white",
           "ticks": "",
           "title": {
            "standoff": 15
           },
           "zerolinecolor": "white",
           "zerolinewidth": 2
          },
          "yaxis": {
           "automargin": true,
           "gridcolor": "white",
           "linecolor": "white",
           "ticks": "",
           "title": {
            "standoff": 15
           },
           "zerolinecolor": "white",
           "zerolinewidth": 2
          }
         }
        },
        "title": {
         "text": "Gpu Acceleration over Zarr Lz4 - Ascending <class 'numpy.int32'>"
        },
        "xaxis": {
         "anchor": "y",
         "autorange": true,
         "domain": [
          0,
          1
         ],
         "range": [
          0,
          19
         ],
         "title": {
          "text": "Input Size (Bytes)"
         },
         "type": "category"
        },
        "yaxis": {
         "anchor": "x",
         "autorange": true,
         "domain": [
          0,
          1
         ],
         "range": [
          -1.7525904703626567,
          39.72045907600321
         ],
         "title": {
          "text": "Multiple Faster"
         },
         "type": "linear"
        }
       }
      },
      "image/png": "[encoded data removed]",
      "text/html": [
       "<div>                            <div id=\"0ae0b0a1-e661-48cb-aea1-f209f6b06965\" class=\"plotly-graph-div\" style=\"height:525px; width:100%;\"></div>            <script type=\"text/javascript\">                require([\"plotly\"], function(Plotly) {                    window.PLOTLYENV=window.PLOTLYENV || {};                                    if (document.getElementById(\"0ae0b0a1-e661-48cb-aea1-f209f6b06965\")) {                    Plotly.newPlot(                        \"0ae0b0a1-e661-48cb-aea1-f209f6b06965\",                        [{\"hovertemplate\":\"variable=Cascaded Speedup<br>Input Size (Bytes)=%{x}<br>Multiple Faster=%{y}<extra></extra>\",\"legendgroup\":\"Cascaded Speedup\",\"line\":{\"color\":\"#636efa\",\"dash\":\"solid\"},\"marker\":{\"symbol\":\"circle\"},\"mode\":\"lines\",\"name\":\"Cascaded Speedup\",\"orientation\":\"v\",\"showlegend\":true,\"x\":[2013929216,1006964608,503482304,251741152,125870576,62935280,31467632,15733808,7866896,3933440,1966720,983360,491680,245840,122912,61456,30720,15360,7680,3840],\"xaxis\":\"x\",\"y\":[37.64680659868492,14.629706863482326,15.209146827967622,13.934147802589987,13.274808979446782,13.099587179368246,7.950083071810965,3.660483712394311,3.727272727272727,3.4312764158918005,2.540777619724988,2.85344592754018,1.3634726224783862,0.8837926382732704,4.321394460362942,3.096528365791702,3.2396066160035764,2.2913202527435983,2.3172645739910314,2.4567198177676537],\"yaxis\":\"y\",\"type\":\"scatter\"},{\"hovertemplate\":\"variable=Lz4 Gpu Speedup<br>Input Size (Bytes)=%{x}<br>Multiple Faster=%{y}<extra></extra>\",\"legendgroup\":\"Lz4 Gpu Speedup\",\"line\":{\"color\":\"#EF553B\",\"dash\":\"solid\"},\"marker\":{\"symbol\":\"circle\"},\"mode\":\"lines\",\"name\":\"Lz4 Gpu Speedup\",\"orientation\":\"v\",\"showlegend\":true,\"x\":[2013929216,1006964608,503482304,251741152,125870576,62935280,31467632,15733808,7866896,3933440,1966720,983360,491680,245840,122912,61456,30720,15360,7680,3840],\"xaxis\":\"x\",\"y\":[14.805963187542607,13.648289449286112,13.332961692053852,11.550715832849068,10.797253938430408,9.411447138215447,5.2314868804664725,1.8244421939825552,1.4797382861967074,1.1457604154905725,0.7175281199785752,0.7755238024727918,0.32106200695563664,0.7656093489148581,0.8010091174648136,0.44254855690687966,0.561739400046508,0.6371959678165171,0.6574427480916031,0.7487850034714186],\"yaxis\":\"y\",\"type\":\"scatter\"}],                        {\"template\":{\"data\":{\"bar\":[{\"error_x\":{\"color\":\"#2a3f5f\"},\"error_y\":{\"color\":\"#2a3f5f\"},\"marker\":{\"line\":{\"color\":\"#E5ECF6\",\"width\":0.5},\"pattern\":{\"fillmode\":\"overlay\",\"size\":10,\"solidity\":0.2}},\"type\":\"bar\"}],\"barpolar\":[{\"marker\":{\"line\":{\"color\":\"#E5ECF6\",\"width\":0.5},\"pattern\":{\"fillmode\":\"overlay\",\"size\":10,\"solidity\":0.2}},\"type\":\"barpolar\"}],\"carpet\":[{\"aaxis\":{\"endlinecolor\":\"#2a3f5f\",\"gridcolor\":\"white\",\"linecolor\":\"white\",\"minorgridcolor\":\"white\",\"startlinecolor\":\"#2a3f5f\"},\"baxis\":{\"endlinecolor\":\"#2a3f5f\",\"gridcolor\":\"white\",\"linecolor\":\"white\",\"minorgridcolor\":\"white\",\"startlinecolor\":\"#2a3f5f\"},\"type\":\"carpet\"}],\"choropleth\":[{\"colorbar\":{\"outlinewidth\":0,\"ticks\":\"\"},\"type\":\"choropleth\"}],\"contour\":[{\"colorbar\":{\"outlinewidth\":0,\"ticks\":\"\"},\"colorscale\":[[0.0,\"#0d0887\"],[0.1111111111111111,\"#46039f\"],[0.2222222222222222,\"#7201a8\"],[0.3333333333333333,\"#9c179e\"],[0.4444444444444444,\"#bd3786\"],[0.5555555555555556,\"#d8576b\"],[0.6666666666666666,\"#ed7953\"],[0.7777777777777778,\"#fb9f3a\"],[0.8888888888888888,\"#fdca26\"],[1.0,\"#f0f921\"]],\"type\":\"contour\"}],\"contourcarpet\":[{\"colorbar\":{\"outlinewidth\":0,\"ticks\":\"\"},\"type\":\"contourcarpet\"}],\"heatmap\":[{\"colorbar\":{\"outlinewidth\":0,\"ticks\":\"\"},\"colorscale\":[[0.0,\"#0d0887\"],[0.1111111111111111,\"#46039f\"],[0.2222222222222222,\"#7201a8\"],[0.3333333333333333,\"#9c179e\"],[0.4444444444444444,\"#bd3786\"],[0.5555555555555556,\"#d8576b\"],[0.6666666666666666,\"#ed7953\"],[0.7777777777777778,\"#fb9f3a\"],[0.8888888888888888,\"#fdca26\"],[1.0,\"#f0f921\"]],\"type\":\"heatmap\"}],\"heatmapgl\":[{\"colorbar\":{\"outlinewidth\":0,\"ticks\":\"\"},\"colorscale\":[[0.0,\"#0d0887\"],[0.1111111111111111,\"#46039f\"],[0.2222222222222222,\"#7201a8\"],[0.3333333333333333,\"#9c179e\"],[0.4444444444444444,\"#bd3786\"],[0.5555555555555556,\"#d8576b\"],[0.6666666666666666,\"#ed7953\"],[0.7777777777777778,\"#fb9f3a\"],[0.8888888888888888,\"#fdca26\"],[1.0,\"#f0f921\"]],\"type\":\"heatmapgl\"}],\"histogram\":[{\"marker\":{\"pattern\":{\"fillmode\":\"overlay\",\"size\":10,\"solidity\":0.2}},\"type\":\"histogram\"}],\"histogram2d\":[{\"colorbar\":{\"outlinewidth\":0,\"ticks\":\"\"},\"colorscale\":[[0.0,\"#0d0887\"],[0.1111111111111111,\"#46039f\"],[0.2222222222222222,\"#7201a8\"],[0.3333333333333333,\"#9c179e\"],[0.4444444444444444,\"#bd3786\"],[0.5555555555555556,\"#d8576b\"],[0.6666666666666666,\"#ed7953\"],[0.7777777777777778,\"#fb9f3a\"],[0.8888888888888888,\"#fdca26\"],[1.0,\"#f0f921\"]],\"type\":\"histogram2d\"}],\"histogram2dcontour\":[{\"colorbar\":{\"outlinewidth\":0,\"ticks\":\"\"},\"colorscale\":[[0.0,\"#0d0887\"],[0.1111111111111111,\"#46039f\"],[0.2222222222222222,\"#7201a8\"],[0.3333333333333333,\"#9c179e\"],[0.4444444444444444,\"#bd3786\"],[0.5555555555555556,\"#d8576b\"],[0.6666666666666666,\"#ed7953\"],[0.7777777777777778,\"#fb9f3a\"],[0.8888888888888888,\"#fdca26\"],[1.0,\"#f0f921\"]],\"type\":\"histogram2dcontour\"}],\"mesh3d\":[{\"colorbar\":{\"outlinewidth\":0,\"ticks\":\"\"},\"type\":\"mesh3d\"}],\"parcoords\":[{\"line\":{\"colorbar\":{\"outlinewidth\":0,\"ticks\":\"\"}},\"type\":\"parcoords\"}],\"pie\":[{\"automargin\":true,\"type\":\"pie\"}],\"scatter\":[{\"marker\":{\"colorbar\":{\"outlinewidth\":0,\"ticks\":\"\"}},\"type\":\"scatter\"}],\"scatter3d\":[{\"line\":{\"colorbar\":{\"outlinewidth\":0,\"ticks\":\"\"}},\"marker\":{\"colorbar\":{\"outlinewidth\":0,\"ticks\":\"\"}},\"type\":\"scatter3d\"}],\"scattercarpet\":[{\"marker\":{\"colorbar\":{\"outlinewidth\":0,\"ticks\":\"\"}},\"type\":\"scattercarpet\"}],\"scattergeo\":[{\"marker\":{\"colorbar\":{\"outlinewidth\":0,\"ticks\":\"\"}},\"type\":\"scattergeo\"}],\"scattergl\":[{\"marker\":{\"colorbar\":{\"outlinewidth\":0,\"ticks\":\"\"}},\"type\":\"scattergl\"}],\"scattermapbox\":[{\"marker\":{\"colorbar\":{\"outlinewidth\":0,\"ticks\":\"\"}},\"type\":\"scattermapbox\"}],\"scatterpolar\":[{\"marker\":{\"colorbar\":{\"outlinewidth\":0,\"ticks\":\"\"}},\"type\":\"scatterpolar\"}],\"scatterpolargl\":[{\"marker\":{\"colorbar\":{\"outlinewidth\":0,\"ticks\":\"\"}},\"type\":\"scatterpolargl\"}],\"scatterternary\":[{\"marker\":{\"colorbar\":{\"outlinewidth\":0,\"ticks\":\"\"}},\"type\":\"scatterternary\"}],\"surface\":[{\"colorbar\":{\"outlinewidth\":0,\"ticks\":\"\"},\"colorscale\":[[0.0,\"#0d0887\"],[0.1111111111111111,\"#46039f\"],[0.2222222222222222,\"#7201a8\"],[0.3333333333333333,\"#9c179e\"],[0.4444444444444444,\"#bd3786\"],[0.5555555555555556,\"#d8576b\"],[0.6666666666666666,\"#ed7953\"],[0.7777777777777778,\"#fb9f3a\"],[0.8888888888888888,\"#fdca26\"],[1.0,\"#f0f921\"]],\"type\":\"surface\"}],\"table\":[{\"cells\":{\"fill\":{\"color\":\"#EBF0F8\"},\"line\":{\"color\":\"white\"}},\"header\":{\"fill\":{\"color\":\"#C8D4E3\"},\"line\":{\"color\":\"white\"}},\"type\":\"table\"}]},\"layout\":{\"annotationdefaults\":{\"arrowcolor\":\"#2a3f5f\",\"arrowhead\":0,\"arrowwidth\":1},\"autotypenumbers\":\"strict\",\"coloraxis\":{\"colorbar\":{\"outlinewidth\":0,\"ticks\":\"\"}},\"colorscale\":{\"diverging\":[[0,\"#8e0152\"],[0.1,\"#c51b7d\"],[0.2,\"#de77ae\"],[0.3,\"#f1b6da\"],[0.4,\"#fde0ef\"],[0.5,\"#f7f7f7\"],[0.6,\"#e6f5d0\"],[0.7,\"#b8e186\"],[0.8,\"#7fbc41\"],[0.9,\"#4d9221\"],[1,\"#276419\"]],\"sequential\":[[0.0,\"#0d0887\"],[0.1111111111111111,\"#46039f\"],[0.2222222222222222,\"#7201a8\"],[0.3333333333333333,\"#9c179e\"],[0.4444444444444444,\"#bd3786\"],[0.5555555555555556,\"#d8576b\"],[0.6666666666666666,\"#ed7953\"],[0.7777777777777778,\"#fb9f3a\"],[0.8888888888888888,\"#fdca26\"],[1.0,\"#f0f921\"]],\"sequentialminus\":[[0.0,\"#0d0887\"],[0.1111111111111111,\"#46039f\"],[0.2222222222222222,\"#7201a8\"],[0.3333333333333333,\"#9c179e\"],[0.4444444444444444,\"#bd3786\"],[0.5555555555555556,\"#d8576b\"],[0.6666666666666666,\"#ed7953\"],[0.7777777777777778,\"#fb9f3a\"],[0.8888888888888888,\"#fdca26\"],[1.0,\"#f0f921\"]]},\"colorway\":[\"#636efa\",\"#EF553B\",\"#00cc96\",\"#ab63fa\",\"#FFA15A\",\"#19d3f3\",\"#FF6692\",\"#B6E880\",\"#FF97FF\",\"#FECB52\"],\"font\":{\"color\":\"#2a3f5f\"},\"geo\":{\"bgcolor\":\"white\",\"lakecolor\":\"white\",\"landcolor\":\"#E5ECF6\",\"showlakes\":true,\"showland\":true,\"subunitcolor\":\"white\"},\"hoverlabel\":{\"align\":\"left\"},\"hovermode\":\"closest\",\"mapbox\":{\"style\":\"light\"},\"paper_bgcolor\":\"white\",\"plot_bgcolor\":\"#E5ECF6\",\"polar\":{\"angularaxis\":{\"gridcolor\":\"white\",\"linecolor\":\"white\",\"ticks\":\"\"},\"bgcolor\":\"#E5ECF6\",\"radialaxis\":{\"gridcolor\":\"white\",\"linecolor\":\"white\",\"ticks\":\"\"}},\"scene\":{\"xaxis\":{\"backgroundcolor\":\"#E5ECF6\",\"gridcolor\":\"white\",\"gridwidth\":2,\"linecolor\":\"white\",\"showbackground\":true,\"ticks\":\"\",\"zerolinecolor\":\"white\"},\"yaxis\":{\"backgroundcolor\":\"#E5ECF6\",\"gridcolor\":\"white\",\"gridwidth\":2,\"linecolor\":\"white\",\"showbackground\":true,\"ticks\":\"\",\"zerolinecolor\":\"white\"},\"zaxis\":{\"backgroundcolor\":\"#E5ECF6\",\"gridcolor\":\"white\",\"gridwidth\":2,\"linecolor\":\"white\",\"showbackground\":true,\"ticks\":\"\",\"zerolinecolor\":\"white\"}},\"shapedefaults\":{\"line\":{\"color\":\"#2a3f5f\"}},\"ternary\":{\"aaxis\":{\"gridcolor\":\"white\",\"linecolor\":\"white\",\"ticks\":\"\"},\"baxis\":{\"gridcolor\":\"white\",\"linecolor\":\"white\",\"ticks\":\"\"},\"bgcolor\":\"#E5ECF6\",\"caxis\":{\"gridcolor\":\"white\",\"linecolor\":\"white\",\"ticks\":\"\"}},\"title\":{\"x\":0.05},\"xaxis\":{\"automargin\":true,\"gridcolor\":\"white\",\"linecolor\":\"white\",\"ticks\":\"\",\"title\":{\"standoff\":15},\"zerolinecolor\":\"white\",\"zerolinewidth\":2},\"yaxis\":{\"automargin\":true,\"gridcolor\":\"white\",\"linecolor\":\"white\",\"ticks\":\"\",\"title\":{\"standoff\":15},\"zerolinecolor\":\"white\",\"zerolinewidth\":2}}},\"xaxis\":{\"anchor\":\"y\",\"domain\":[0.0,1.0],\"title\":{\"text\":\"Input Size (Bytes)\"},\"type\":\"category\"},\"yaxis\":{\"anchor\":\"x\",\"domain\":[0.0,1.0],\"title\":{\"text\":\"Multiple Faster\"}},\"legend\":{\"title\":{\"text\":\"variable\"},\"tracegroupgap\":0},\"title\":{\"text\":\"Gpu Acceleration over Zarr Lz4 - Ascending <class 'numpy.int32'>\"}},                        {\"responsive\": true}                    ).then(function(){\n",
       "                            \n",
       "var gd = document.getElementById('0ae0b0a1-e661-48cb-aea1-f209f6b06965');\n",
       "var x = new MutationObserver(function (mutations, observer) {{\n",
       "        var display = window.getComputedStyle(gd).display;\n",
       "        if (!display || display === 'none') {{\n",
       "            console.log([gd, 'removed!']);\n",
       "            Plotly.purge(gd);\n",
       "            observer.disconnect();\n",
       "        }}\n",
       "}});\n",
       "\n",
       "// Listen for the removal of the full notebook cells\n",
       "var notebookContainer = gd.closest('#notebook-container');\n",
       "if (notebookContainer) {{\n",
       "    x.observe(notebookContainer, {childList: true});\n",
       "}}\n",
       "\n",
       "// Listen for the clearing of the current output cell\n",
       "var outputEl = gd.closest('.output');\n",
       "if (outputEl) {{\n",
       "    x.observe(outputEl, {childList: true});\n",
       "}}\n",
       "\n",
       "                        })                };                });            </script>        </div>"
      ]
     },
     "metadata": {},
     "output_type": "display_data"
    }
   ],
   "source": [
    "import plotly.express as px\n",
    "title = 'Gpu Acceleration over Zarr Lz4 - ' + TARGET + \" \" + str(DTYPE)\n",
    "subtitle = 'Includes host->gpu copy time'\n",
    "fig = px.line(df, x='Input Size (Bytes)',\n",
    "              y=['Cascaded Speedup', 'Lz4 Gpu Speedup'],\n",
    "              labels={'value': 'Multiple Faster'},\n",
    "              title=title)\n",
    "fig.update_xaxes(type='category')\n",
    "fig.show()"
   ]
  },
  {
   "cell_type": "code",
   "execution_count": 61,
   "id": "e3d57a90-ca86-41da-9747-696151d66184",
   "metadata": {},
   "outputs": [
    {
     "data": {
      "application/vnd.plotly.v1+json": {
       "config": {
        "plotlyServerURL": "https://plot.ly"
       },
       "data": [
        {
         "hovertemplate": "variable=Lz4 Gpu Compression Ratio<br>Input Size (Bytes)=%{x}<br>Compression Factor=%{y}<extra></extra>",
         "legendgroup": "Lz4 Gpu Compression Ratio",
         "line": {
          "color": "#636efa",
          "dash": "solid"
         },
         "marker": {
          "symbol": "circle"
         },
         "mode": "lines",
         "name": "Lz4 Gpu Compression Ratio",
         "orientation": "v",
         "showlegend": true,
         "type": "scatter",
         "x": [
          2013929216,
          1006964608,
          503482304,
          251741152,
          125870576,
          62935280,
          31467632,
          15733808,
          7866896,
          3933440,
          1966720,
          983360,
          491680,
          245840,
          122912,
          61456,
          30720,
          15360,
          7680,
          3840
         ],
         "xaxis": "x",
         "y": [
          0.9958382624444768,
          0.995805838797391,
          0.9958057994065636,
          0.9956761259394569,
          0.9956759684172111,
          0.9951574857584086,
          0.9941221383113399,
          0.9920578913890796,
          0.9879550028080546,
          0.9798501766671782,
          0.9640368454694112,
          0.9338935276285699,
          0.9338580523604759,
          0.9337871099091434,
          0.9335844929209455,
          0.93330093548779,
          0.46652897582310776,
          0.23326448791155388,
          0.11663224395577694,
          0.05831612197788847
         ],
         "yaxis": "y"
        },
        {
         "hovertemplate": "variable=Cascaded Compression Ratio<br>Input Size (Bytes)=%{x}<br>Compression Factor=%{y}<extra></extra>",
         "legendgroup": "Cascaded Compression Ratio",
         "line": {
          "color": "#EF553B",
          "dash": "solid"
         },
         "marker": {
          "symbol": "circle"
         },
         "mode": "lines",
         "name": "Cascaded Compression Ratio",
         "orientation": "v",
         "showlegend": true,
         "type": "scatter",
         "x": [
          2013929216,
          1006964608,
          503482304,
          251741152,
          125870576,
          62935280,
          31467632,
          15733808,
          7866896,
          3933440,
          1966720,
          983360,
          491680,
          245840,
          122912,
          61456,
          30720,
          15360,
          7680,
          3840
         ],
         "xaxis": "x",
         "y": [
          31.9999186468014,
          31.999837294016448,
          31.99967052210044,
          31.99934511848881,
          31.998694331119257,
          31.997388768450467,
          31.99477796169692,
          31.989427542066185,
          31.978732053137346,
          31.958401039974,
          31.916910094125285,
          31.832189563641073,
          31.66409067490984,
          31.341152473227943,
          30.697302697302696,
          29.489443378119002,
          27.428571428571427,
          24,
          19.2,
          13.714285714285714
         ],
         "yaxis": "y"
        },
        {
         "hovertemplate": "variable=Lz4 Host Compression Ratio<br>Input Size (Bytes)=%{x}<br>Compression Factor=%{y}<extra></extra>",
         "legendgroup": "Lz4 Host Compression Ratio",
         "line": {
          "color": "#00cc96",
          "dash": "solid"
         },
         "marker": {
          "symbol": "circle"
         },
         "mode": "lines",
         "name": "Lz4 Host Compression Ratio",
         "orientation": "v",
         "showlegend": true,
         "type": "scatter",
         "x": [
          2013929216,
          1006964608,
          503482304,
          251741152,
          125870576,
          62935280,
          31467632,
          15733808,
          7866896,
          3933440,
          1966720,
          983360,
          491680,
          245840,
          122912,
          61456,
          30720,
          15360,
          7680,
          3840
         ],
         "xaxis": "x",
         "y": [
          0.9960937552377597,
          0.9960937606571312,
          0.9960937705105339,
          0.9960937902173401,
          0.9960938375136782,
          0.9960939237290628,
          0.9960940803944817,
          0.9960943937257063,
          0.9960950834517639,
          0.996096336786233,
          0.9960991115374525,
          0.9961041565792752,
          0.9961162648881577,
          0.9961384642190013,
          0.9961826183509884,
          0.9964006615000487,
          0.996690675491532,
          0.9973378352055061,
          0.997532147032082,
          0.9968847352024922
         ],
         "yaxis": "y"
        }
       ],
       "layout": {
        "autosize": true,
        "legend": {
         "title": {
          "text": "variable"
         },
         "tracegroupgap": 0
        },
        "template": {
         "data": {
          "bar": [
           {
            "error_x": {
             "color": "#2a3f5f"
            },
            "error_y": {
             "color": "#2a3f5f"
            },
            "marker": {
             "line": {
              "color": "#E5ECF6",
              "width": 0.5
             },
             "pattern": {
              "fillmode": "overlay",
              "size": 10,
              "solidity": 0.2
             }
            },
            "type": "bar"
           }
          ],
          "barpolar": [
           {
            "marker": {
             "line": {
              "color": "#E5ECF6",
              "width": 0.5
             },
             "pattern": {
              "fillmode": "overlay",
              "size": 10,
              "solidity": 0.2
             }
            },
            "type": "barpolar"
           }
          ],
          "carpet": [
           {
            "aaxis": {
             "endlinecolor": "#2a3f5f",
             "gridcolor": "white",
             "linecolor": "white",
             "minorgridcolor": "white",
             "startlinecolor": "#2a3f5f"
            },
            "baxis": {
             "endlinecolor": "#2a3f5f",
             "gridcolor": "white",
             "linecolor": "white",
             "minorgridcolor": "white",
             "startlinecolor": "#2a3f5f"
            },
            "type": "carpet"
           }
          ],
          "choropleth": [
           {
            "colorbar": {
             "outlinewidth": 0,
             "ticks": ""
            },
            "type": "choropleth"
           }
          ],
          "contour": [
           {
            "colorbar": {
             "outlinewidth": 0,
             "ticks": ""
            },
            "colorscale": [
             [
              0,
              "#0d0887"
             ],
             [
              0.1111111111111111,
              "#46039f"
             ],
             [
              0.2222222222222222,
              "#7201a8"
             ],
             [
              0.3333333333333333,
              "#9c179e"
             ],
             [
              0.4444444444444444,
              "#bd3786"
             ],
             [
              0.5555555555555556,
              "#d8576b"
             ],
             [
              0.6666666666666666,
              "#ed7953"
             ],
             [
              0.7777777777777778,
              "#fb9f3a"
             ],
             [
              0.8888888888888888,
              "#fdca26"
             ],
             [
              1,
              "#f0f921"
             ]
            ],
            "type": "contour"
           }
          ],
          "contourcarpet": [
           {
            "colorbar": {
             "outlinewidth": 0,
             "ticks": ""
            },
            "type": "contourcarpet"
           }
          ],
          "heatmap": [
           {
            "colorbar": {
             "outlinewidth": 0,
             "ticks": ""
            },
            "colorscale": [
             [
              0,
              "#0d0887"
             ],
             [
              0.1111111111111111,
              "#46039f"
             ],
             [
              0.2222222222222222,
              "#7201a8"
             ],
             [
              0.3333333333333333,
              "#9c179e"
             ],
             [
              0.4444444444444444,
              "#bd3786"
             ],
             [
              0.5555555555555556,
              "#d8576b"
             ],
             [
              0.6666666666666666,
              "#ed7953"
             ],
             [
              0.7777777777777778,
              "#fb9f3a"
             ],
             [
              0.8888888888888888,
              "#fdca26"
             ],
             [
              1,
              "#f0f921"
             ]
            ],
            "type": "heatmap"
           }
          ],
          "heatmapgl": [
           {
            "colorbar": {
             "outlinewidth": 0,
             "ticks": ""
            },
            "colorscale": [
             [
              0,
              "#0d0887"
             ],
             [
              0.1111111111111111,
              "#46039f"
             ],
             [
              0.2222222222222222,
              "#7201a8"
             ],
             [
              0.3333333333333333,
              "#9c179e"
             ],
             [
              0.4444444444444444,
              "#bd3786"
             ],
             [
              0.5555555555555556,
              "#d8576b"
             ],
             [
              0.6666666666666666,
              "#ed7953"
             ],
             [
              0.7777777777777778,
              "#fb9f3a"
             ],
             [
              0.8888888888888888,
              "#fdca26"
             ],
             [
              1,
              "#f0f921"
             ]
            ],
            "type": "heatmapgl"
           }
          ],
          "histogram": [
           {
            "marker": {
             "pattern": {
              "fillmode": "overlay",
              "size": 10,
              "solidity": 0.2
             }
            },
            "type": "histogram"
           }
          ],
          "histogram2d": [
           {
            "colorbar": {
             "outlinewidth": 0,
             "ticks": ""
            },
            "colorscale": [
             [
              0,
              "#0d0887"
             ],
             [
              0.1111111111111111,
              "#46039f"
             ],
             [
              0.2222222222222222,
              "#7201a8"
             ],
             [
              0.3333333333333333,
              "#9c179e"
             ],
             [
              0.4444444444444444,
              "#bd3786"
             ],
             [
              0.5555555555555556,
              "#d8576b"
             ],
             [
              0.6666666666666666,
              "#ed7953"
             ],
             [
              0.7777777777777778,
              "#fb9f3a"
             ],
             [
              0.8888888888888888,
              "#fdca26"
             ],
             [
              1,
              "#f0f921"
             ]
            ],
            "type": "histogram2d"
           }
          ],
          "histogram2dcontour": [
           {
            "colorbar": {
             "outlinewidth": 0,
             "ticks": ""
            },
            "colorscale": [
             [
              0,
              "#0d0887"
             ],
             [
              0.1111111111111111,
              "#46039f"
             ],
             [
              0.2222222222222222,
              "#7201a8"
             ],
             [
              0.3333333333333333,
              "#9c179e"
             ],
             [
              0.4444444444444444,
              "#bd3786"
             ],
             [
              0.5555555555555556,
              "#d8576b"
             ],
             [
              0.6666666666666666,
              "#ed7953"
             ],
             [
              0.7777777777777778,
              "#fb9f3a"
             ],
             [
              0.8888888888888888,
              "#fdca26"
             ],
             [
              1,
              "#f0f921"
             ]
            ],
            "type": "histogram2dcontour"
           }
          ],
          "mesh3d": [
           {
            "colorbar": {
             "outlinewidth": 0,
             "ticks": ""
            },
            "type": "mesh3d"
           }
          ],
          "parcoords": [
           {
            "line": {
             "colorbar": {
              "outlinewidth": 0,
              "ticks": ""
             }
            },
            "type": "parcoords"
           }
          ],
          "pie": [
           {
            "automargin": true,
            "type": "pie"
           }
          ],
          "scatter": [
           {
            "marker": {
             "colorbar": {
              "outlinewidth": 0,
              "ticks": ""
             }
            },
            "type": "scatter"
           }
          ],
          "scatter3d": [
           {
            "line": {
             "colorbar": {
              "outlinewidth": 0,
              "ticks": ""
             }
            },
            "marker": {
             "colorbar": {
              "outlinewidth": 0,
              "ticks": ""
             }
            },
            "type": "scatter3d"
           }
          ],
          "scattercarpet": [
           {
            "marker": {
             "colorbar": {
              "outlinewidth": 0,
              "ticks": ""
             }
            },
            "type": "scattercarpet"
           }
          ],
          "scattergeo": [
           {
            "marker": {
             "colorbar": {
              "outlinewidth": 0,
              "ticks": ""
             }
            },
            "type": "scattergeo"
           }
          ],
          "scattergl": [
           {
            "marker": {
             "colorbar": {
              "outlinewidth": 0,
              "ticks": ""
             }
            },
            "type": "scattergl"
           }
          ],
          "scattermapbox": [
           {
            "marker": {
             "colorbar": {
              "outlinewidth": 0,
              "ticks": ""
             }
            },
            "type": "scattermapbox"
           }
          ],
          "scatterpolar": [
           {
            "marker": {
             "colorbar": {
              "outlinewidth": 0,
              "ticks": ""
             }
            },
            "type": "scatterpolar"
           }
          ],
          "scatterpolargl": [
           {
            "marker": {
             "colorbar": {
              "outlinewidth": 0,
              "ticks": ""
             }
            },
            "type": "scatterpolargl"
           }
          ],
          "scatterternary": [
           {
            "marker": {
             "colorbar": {
              "outlinewidth": 0,
              "ticks": ""
             }
            },
            "type": "scatterternary"
           }
          ],
          "surface": [
           {
            "colorbar": {
             "outlinewidth": 0,
             "ticks": ""
            },
            "colorscale": [
             [
              0,
              "#0d0887"
             ],
             [
              0.1111111111111111,
              "#46039f"
             ],
             [
              0.2222222222222222,
              "#7201a8"
             ],
             [
              0.3333333333333333,
              "#9c179e"
             ],
             [
              0.4444444444444444,
              "#bd3786"
             ],
             [
              0.5555555555555556,
              "#d8576b"
             ],
             [
              0.6666666666666666,
              "#ed7953"
             ],
             [
              0.7777777777777778,
              "#fb9f3a"
             ],
             [
              0.8888888888888888,
              "#fdca26"
             ],
             [
              1,
              "#f0f921"
             ]
            ],
            "type": "surface"
           }
          ],
          "table": [
           {
            "cells": {
             "fill": {
              "color": "#EBF0F8"
             },
             "line": {
              "color": "white"
             }
            },
            "header": {
             "fill": {
              "color": "#C8D4E3"
             },
             "line": {
              "color": "white"
             }
            },
            "type": "table"
           }
          ]
         },
         "layout": {
          "annotationdefaults": {
           "arrowcolor": "#2a3f5f",
           "arrowhead": 0,
           "arrowwidth": 1
          },
          "autotypenumbers": "strict",
          "coloraxis": {
           "colorbar": {
            "outlinewidth": 0,
            "ticks": ""
           }
          },
          "colorscale": {
           "diverging": [
            [
             0,
             "#8e0152"
            ],
            [
             0.1,
             "#c51b7d"
            ],
            [
             0.2,
             "#de77ae"
            ],
            [
             0.3,
             "#f1b6da"
            ],
            [
             0.4,
             "#fde0ef"
            ],
            [
             0.5,
             "#f7f7f7"
            ],
            [
             0.6,
             "#e6f5d0"
            ],
            [
             0.7,
             "#b8e186"
            ],
            [
             0.8,
             "#7fbc41"
            ],
            [
             0.9,
             "#4d9221"
            ],
            [
             1,
             "#276419"
            ]
           ],
           "sequential": [
            [
             0,
             "#0d0887"
            ],
            [
             0.1111111111111111,
             "#46039f"
            ],
            [
             0.2222222222222222,
             "#7201a8"
            ],
            [
             0.3333333333333333,
             "#9c179e"
            ],
            [
             0.4444444444444444,
             "#bd3786"
            ],
            [
             0.5555555555555556,
             "#d8576b"
            ],
            [
             0.6666666666666666,
             "#ed7953"
            ],
            [
             0.7777777777777778,
             "#fb9f3a"
            ],
            [
             0.8888888888888888,
             "#fdca26"
            ],
            [
             1,
             "#f0f921"
            ]
           ],
           "sequentialminus": [
            [
             0,
             "#0d0887"
            ],
            [
             0.1111111111111111,
             "#46039f"
            ],
            [
             0.2222222222222222,
             "#7201a8"
            ],
            [
             0.3333333333333333,
             "#9c179e"
            ],
            [
             0.4444444444444444,
             "#bd3786"
            ],
            [
             0.5555555555555556,
             "#d8576b"
            ],
            [
             0.6666666666666666,
             "#ed7953"
            ],
            [
             0.7777777777777778,
             "#fb9f3a"
            ],
            [
             0.8888888888888888,
             "#fdca26"
            ],
            [
             1,
             "#f0f921"
            ]
           ]
          },
          "colorway": [
           "#636efa",
           "#EF553B",
           "#00cc96",
           "#ab63fa",
           "#FFA15A",
           "#19d3f3",
           "#FF6692",
           "#B6E880",
           "#FF97FF",
           "#FECB52"
          ],
          "font": {
           "color": "#2a3f5f"
          },
          "geo": {
           "bgcolor": "white",
           "lakecolor": "white",
           "landcolor": "#E5ECF6",
           "showlakes": true,
           "showland": true,
           "subunitcolor": "white"
          },
          "hoverlabel": {
           "align": "left"
          },
          "hovermode": "closest",
          "mapbox": {
           "style": "light"
          },
          "paper_bgcolor": "white",
          "plot_bgcolor": "#E5ECF6",
          "polar": {
           "angularaxis": {
            "gridcolor": "white",
            "linecolor": "white",
            "ticks": ""
           },
           "bgcolor": "#E5ECF6",
           "radialaxis": {
            "gridcolor": "white",
            "linecolor": "white",
            "ticks": ""
           }
          },
          "scene": {
           "xaxis": {
            "backgroundcolor": "#E5ECF6",
            "gridcolor": "white",
            "gridwidth": 2,
            "linecolor": "white",
            "showbackground": true,
            "ticks": "",
            "zerolinecolor": "white"
           },
           "yaxis": {
            "backgroundcolor": "#E5ECF6",
            "gridcolor": "white",
            "gridwidth": 2,
            "linecolor": "white",
            "showbackground": true,
            "ticks": "",
            "zerolinecolor": "white"
           },
           "zaxis": {
            "backgroundcolor": "#E5ECF6",
            "gridcolor": "white",
            "gridwidth": 2,
            "linecolor": "white",
            "showbackground": true,
            "ticks": "",
            "zerolinecolor": "white"
           }
          },
          "shapedefaults": {
           "line": {
            "color": "#2a3f5f"
           }
          },
          "ternary": {
           "aaxis": {
            "gridcolor": "white",
            "linecolor": "white",
            "ticks": ""
           },
           "baxis": {
            "gridcolor": "white",
            "linecolor": "white",
            "ticks": ""
           },
           "bgcolor": "#E5ECF6",
           "caxis": {
            "gridcolor": "white",
            "linecolor": "white",
            "ticks": ""
           }
          },
          "title": {
           "x": 0.05
          },
          "xaxis": {
           "automargin": true,
           "gridcolor": "white",
           "linecolor": "white",
           "ticks": "",
           "title": {
            "standoff": 15
           },
           "zerolinecolor": "white",
           "zerolinewidth": 2
          },
          "yaxis": {
           "automargin": true,
           "gridcolor": "white",
           "linecolor": "white",
           "ticks": "",
           "title": {
            "standoff": 15
           },
           "zerolinecolor": "white",
           "zerolinewidth": 2
          }
         }
        },
        "title": {
         "text": "Compression - Ascending <class 'numpy.int32'>"
        },
        "xaxis": {
         "anchor": "y",
         "autorange": true,
         "domain": [
          0,
          1
         ],
         "range": [
          0,
          19
         ],
         "title": {
          "text": "Input Size (Bytes)"
         },
         "type": "category"
        },
        "yaxis": {
         "anchor": "x",
         "autorange": true,
         "domain": [
          0,
          1
         ],
         "range": [
          -1.7162173516234178,
          33.77445212040271
         ],
         "title": {
          "text": "Compression Factor"
         },
         "type": "linear"
        }
       }
      },
      "image/png": "[encoded data removed]",
      "text/html": [
       "<div>                            <div id=\"15b3938e-8aff-41eb-9bcb-c33a8ae499cf\" class=\"plotly-graph-div\" style=\"height:525px; width:100%;\"></div>            <script type=\"text/javascript\">                require([\"plotly\"], function(Plotly) {                    window.PLOTLYENV=window.PLOTLYENV || {};                                    if (document.getElementById(\"15b3938e-8aff-41eb-9bcb-c33a8ae499cf\")) {                    Plotly.newPlot(                        \"15b3938e-8aff-41eb-9bcb-c33a8ae499cf\",                        [{\"hovertemplate\":\"variable=Lz4 Gpu Compression Ratio<br>Input Size (Bytes)=%{x}<br>Compression Factor=%{y}<extra></extra>\",\"legendgroup\":\"Lz4 Gpu Compression Ratio\",\"line\":{\"color\":\"#636efa\",\"dash\":\"solid\"},\"marker\":{\"symbol\":\"circle\"},\"mode\":\"lines\",\"name\":\"Lz4 Gpu Compression Ratio\",\"orientation\":\"v\",\"showlegend\":true,\"x\":[2013929216,1006964608,503482304,251741152,125870576,62935280,31467632,15733808,7866896,3933440,1966720,983360,491680,245840,122912,61456,30720,15360,7680,3840],\"xaxis\":\"x\",\"y\":[0.9958382624444768,0.995805838797391,0.9958057994065636,0.9956761259394569,0.9956759684172111,0.9951574857584086,0.9941221383113399,0.9920578913890796,0.9879550028080546,0.9798501766671782,0.9640368454694112,0.9338935276285699,0.9338580523604759,0.9337871099091434,0.9335844929209455,0.93330093548779,0.46652897582310776,0.23326448791155388,0.11663224395577694,0.05831612197788847],\"yaxis\":\"y\",\"type\":\"scatter\"},{\"hovertemplate\":\"variable=Cascaded Compression Ratio<br>Input Size (Bytes)=%{x}<br>Compression Factor=%{y}<extra></extra>\",\"legendgroup\":\"Cascaded Compression Ratio\",\"line\":{\"color\":\"#EF553B\",\"dash\":\"solid\"},\"marker\":{\"symbol\":\"circle\"},\"mode\":\"lines\",\"name\":\"Cascaded Compression Ratio\",\"orientation\":\"v\",\"showlegend\":true,\"x\":[2013929216,1006964608,503482304,251741152,125870576,62935280,31467632,15733808,7866896,3933440,1966720,983360,491680,245840,122912,61456,30720,15360,7680,3840],\"xaxis\":\"x\",\"y\":[31.9999186468014,31.999837294016448,31.99967052210044,31.99934511848881,31.998694331119257,31.997388768450467,31.99477796169692,31.989427542066185,31.978732053137346,31.958401039974,31.916910094125285,31.832189563641073,31.66409067490984,31.341152473227943,30.697302697302696,29.489443378119002,27.428571428571427,24.0,19.2,13.714285714285714],\"yaxis\":\"y\",\"type\":\"scatter\"},{\"hovertemplate\":\"variable=Lz4 Host Compression Ratio<br>Input Size (Bytes)=%{x}<br>Compression Factor=%{y}<extra></extra>\",\"legendgroup\":\"Lz4 Host Compression Ratio\",\"line\":{\"color\":\"#00cc96\",\"dash\":\"solid\"},\"marker\":{\"symbol\":\"circle\"},\"mode\":\"lines\",\"name\":\"Lz4 Host Compression Ratio\",\"orientation\":\"v\",\"showlegend\":true,\"x\":[2013929216,1006964608,503482304,251741152,125870576,62935280,31467632,15733808,7866896,3933440,1966720,983360,491680,245840,122912,61456,30720,15360,7680,3840],\"xaxis\":\"x\",\"y\":[0.9960937552377597,0.9960937606571312,0.9960937705105339,0.9960937902173401,0.9960938375136782,0.9960939237290628,0.9960940803944817,0.9960943937257063,0.9960950834517639,0.996096336786233,0.9960991115374525,0.9961041565792752,0.9961162648881577,0.9961384642190013,0.9961826183509884,0.9964006615000487,0.996690675491532,0.9973378352055061,0.997532147032082,0.9968847352024922],\"yaxis\":\"y\",\"type\":\"scatter\"}],                        {\"template\":{\"data\":{\"bar\":[{\"error_x\":{\"color\":\"#2a3f5f\"},\"error_y\":{\"color\":\"#2a3f5f\"},\"marker\":{\"line\":{\"color\":\"#E5ECF6\",\"width\":0.5},\"pattern\":{\"fillmode\":\"overlay\",\"size\":10,\"solidity\":0.2}},\"type\":\"bar\"}],\"barpolar\":[{\"marker\":{\"line\":{\"color\":\"#E5ECF6\",\"width\":0.5},\"pattern\":{\"fillmode\":\"overlay\",\"size\":10,\"solidity\":0.2}},\"type\":\"barpolar\"}],\"carpet\":[{\"aaxis\":{\"endlinecolor\":\"#2a3f5f\",\"gridcolor\":\"white\",\"linecolor\":\"white\",\"minorgridcolor\":\"white\",\"startlinecolor\":\"#2a3f5f\"},\"baxis\":{\"endlinecolor\":\"#2a3f5f\",\"gridcolor\":\"white\",\"linecolor\":\"white\",\"minorgridcolor\":\"white\",\"startlinecolor\":\"#2a3f5f\"},\"type\":\"carpet\"}],\"choropleth\":[{\"colorbar\":{\"outlinewidth\":0,\"ticks\":\"\"},\"type\":\"choropleth\"}],\"contour\":[{\"colorbar\":{\"outlinewidth\":0,\"ticks\":\"\"},\"colorscale\":[[0.0,\"#0d0887\"],[0.1111111111111111,\"#46039f\"],[0.2222222222222222,\"#7201a8\"],[0.3333333333333333,\"#9c179e\"],[0.4444444444444444,\"#bd3786\"],[0.5555555555555556,\"#d8576b\"],[0.6666666666666666,\"#ed7953\"],[0.7777777777777778,\"#fb9f3a\"],[0.8888888888888888,\"#fdca26\"],[1.0,\"#f0f921\"]],\"type\":\"contour\"}],\"contourcarpet\":[{\"colorbar\":{\"outlinewidth\":0,\"ticks\":\"\"},\"type\":\"contourcarpet\"}],\"heatmap\":[{\"colorbar\":{\"outlinewidth\":0,\"ticks\":\"\"},\"colorscale\":[[0.0,\"#0d0887\"],[0.1111111111111111,\"#46039f\"],[0.2222222222222222,\"#7201a8\"],[0.3333333333333333,\"#9c179e\"],[0.4444444444444444,\"#bd3786\"],[0.5555555555555556,\"#d8576b\"],[0.6666666666666666,\"#ed7953\"],[0.7777777777777778,\"#fb9f3a\"],[0.8888888888888888,\"#fdca26\"],[1.0,\"#f0f921\"]],\"type\":\"heatmap\"}],\"heatmapgl\":[{\"colorbar\":{\"outlinewidth\":0,\"ticks\":\"\"},\"colorscale\":[[0.0,\"#0d0887\"],[0.1111111111111111,\"#46039f\"],[0.2222222222222222,\"#7201a8\"],[0.3333333333333333,\"#9c179e\"],[0.4444444444444444,\"#bd3786\"],[0.5555555555555556,\"#d8576b\"],[0.6666666666666666,\"#ed7953\"],[0.7777777777777778,\"#fb9f3a\"],[0.8888888888888888,\"#fdca26\"],[1.0,\"#f0f921\"]],\"type\":\"heatmapgl\"}],\"histogram\":[{\"marker\":{\"pattern\":{\"fillmode\":\"overlay\",\"size\":10,\"solidity\":0.2}},\"type\":\"histogram\"}],\"histogram2d\":[{\"colorbar\":{\"outlinewidth\":0,\"ticks\":\"\"},\"colorscale\":[[0.0,\"#0d0887\"],[0.1111111111111111,\"#46039f\"],[0.2222222222222222,\"#7201a8\"],[0.3333333333333333,\"#9c179e\"],[0.4444444444444444,\"#bd3786\"],[0.5555555555555556,\"#d8576b\"],[0.6666666666666666,\"#ed7953\"],[0.7777777777777778,\"#fb9f3a\"],[0.8888888888888888,\"#fdca26\"],[1.0,\"#f0f921\"]],\"type\":\"histogram2d\"}],\"histogram2dcontour\":[{\"colorbar\":{\"outlinewidth\":0,\"ticks\":\"\"},\"colorscale\":[[0.0,\"#0d0887\"],[0.1111111111111111,\"#46039f\"],[0.2222222222222222,\"#7201a8\"],[0.3333333333333333,\"#9c179e\"],[0.4444444444444444,\"#bd3786\"],[0.5555555555555556,\"#d8576b\"],[0.6666666666666666,\"#ed7953\"],[0.7777777777777778,\"#fb9f3a\"],[0.8888888888888888,\"#fdca26\"],[1.0,\"#f0f921\"]],\"type\":\"histogram2dcontour\"}],\"mesh3d\":[{\"colorbar\":{\"outlinewidth\":0,\"ticks\":\"\"},\"type\":\"mesh3d\"}],\"parcoords\":[{\"line\":{\"colorbar\":{\"outlinewidth\":0,\"ticks\":\"\"}},\"type\":\"parcoords\"}],\"pie\":[{\"automargin\":true,\"type\":\"pie\"}],\"scatter\":[{\"marker\":{\"colorbar\":{\"outlinewidth\":0,\"ticks\":\"\"}},\"type\":\"scatter\"}],\"scatter3d\":[{\"line\":{\"colorbar\":{\"outlinewidth\":0,\"ticks\":\"\"}},\"marker\":{\"colorbar\":{\"outlinewidth\":0,\"ticks\":\"\"}},\"type\":\"scatter3d\"}],\"scattercarpet\":[{\"marker\":{\"colorbar\":{\"outlinewidth\":0,\"ticks\":\"\"}},\"type\":\"scattercarpet\"}],\"scattergeo\":[{\"marker\":{\"colorbar\":{\"outlinewidth\":0,\"ticks\":\"\"}},\"type\":\"scattergeo\"}],\"scattergl\":[{\"marker\":{\"colorbar\":{\"outlinewidth\":0,\"ticks\":\"\"}},\"type\":\"scattergl\"}],\"scattermapbox\":[{\"marker\":{\"colorbar\":{\"outlinewidth\":0,\"ticks\":\"\"}},\"type\":\"scattermapbox\"}],\"scatterpolar\":[{\"marker\":{\"colorbar\":{\"outlinewidth\":0,\"ticks\":\"\"}},\"type\":\"scatterpolar\"}],\"scatterpolargl\":[{\"marker\":{\"colorbar\":{\"outlinewidth\":0,\"ticks\":\"\"}},\"type\":\"scatterpolargl\"}],\"scatterternary\":[{\"marker\":{\"colorbar\":{\"outlinewidth\":0,\"ticks\":\"\"}},\"type\":\"scatterternary\"}],\"surface\":[{\"colorbar\":{\"outlinewidth\":0,\"ticks\":\"\"},\"colorscale\":[[0.0,\"#0d0887\"],[0.1111111111111111,\"#46039f\"],[0.2222222222222222,\"#7201a8\"],[0.3333333333333333,\"#9c179e\"],[0.4444444444444444,\"#bd3786\"],[0.5555555555555556,\"#d8576b\"],[0.6666666666666666,\"#ed7953\"],[0.7777777777777778,\"#fb9f3a\"],[0.8888888888888888,\"#fdca26\"],[1.0,\"#f0f921\"]],\"type\":\"surface\"}],\"table\":[{\"cells\":{\"fill\":{\"color\":\"#EBF0F8\"},\"line\":{\"color\":\"white\"}},\"header\":{\"fill\":{\"color\":\"#C8D4E3\"},\"line\":{\"color\":\"white\"}},\"type\":\"table\"}]},\"layout\":{\"annotationdefaults\":{\"arrowcolor\":\"#2a3f5f\",\"arrowhead\":0,\"arrowwidth\":1},\"autotypenumbers\":\"strict\",\"coloraxis\":{\"colorbar\":{\"outlinewidth\":0,\"ticks\":\"\"}},\"colorscale\":{\"diverging\":[[0,\"#8e0152\"],[0.1,\"#c51b7d\"],[0.2,\"#de77ae\"],[0.3,\"#f1b6da\"],[0.4,\"#fde0ef\"],[0.5,\"#f7f7f7\"],[0.6,\"#e6f5d0\"],[0.7,\"#b8e186\"],[0.8,\"#7fbc41\"],[0.9,\"#4d9221\"],[1,\"#276419\"]],\"sequential\":[[0.0,\"#0d0887\"],[0.1111111111111111,\"#46039f\"],[0.2222222222222222,\"#7201a8\"],[0.3333333333333333,\"#9c179e\"],[0.4444444444444444,\"#bd3786\"],[0.5555555555555556,\"#d8576b\"],[0.6666666666666666,\"#ed7953\"],[0.7777777777777778,\"#fb9f3a\"],[0.8888888888888888,\"#fdca26\"],[1.0,\"#f0f921\"]],\"sequentialminus\":[[0.0,\"#0d0887\"],[0.1111111111111111,\"#46039f\"],[0.2222222222222222,\"#7201a8\"],[0.3333333333333333,\"#9c179e\"],[0.4444444444444444,\"#bd3786\"],[0.5555555555555556,\"#d8576b\"],[0.6666666666666666,\"#ed7953\"],[0.7777777777777778,\"#fb9f3a\"],[0.8888888888888888,\"#fdca26\"],[1.0,\"#f0f921\"]]},\"colorway\":[\"#636efa\",\"#EF553B\",\"#00cc96\",\"#ab63fa\",\"#FFA15A\",\"#19d3f3\",\"#FF6692\",\"#B6E880\",\"#FF97FF\",\"#FECB52\"],\"font\":{\"color\":\"#2a3f5f\"},\"geo\":{\"bgcolor\":\"white\",\"lakecolor\":\"white\",\"landcolor\":\"#E5ECF6\",\"showlakes\":true,\"showland\":true,\"subunitcolor\":\"white\"},\"hoverlabel\":{\"align\":\"left\"},\"hovermode\":\"closest\",\"mapbox\":{\"style\":\"light\"},\"paper_bgcolor\":\"white\",\"plot_bgcolor\":\"#E5ECF6\",\"polar\":{\"angularaxis\":{\"gridcolor\":\"white\",\"linecolor\":\"white\",\"ticks\":\"\"},\"bgcolor\":\"#E5ECF6\",\"radialaxis\":{\"gridcolor\":\"white\",\"linecolor\":\"white\",\"ticks\":\"\"}},\"scene\":{\"xaxis\":{\"backgroundcolor\":\"#E5ECF6\",\"gridcolor\":\"white\",\"gridwidth\":2,\"linecolor\":\"white\",\"showbackground\":true,\"ticks\":\"\",\"zerolinecolor\":\"white\"},\"yaxis\":{\"backgroundcolor\":\"#E5ECF6\",\"gridcolor\":\"white\",\"gridwidth\":2,\"linecolor\":\"white\",\"showbackground\":true,\"ticks\":\"\",\"zerolinecolor\":\"white\"},\"zaxis\":{\"backgroundcolor\":\"#E5ECF6\",\"gridcolor\":\"white\",\"gridwidth\":2,\"linecolor\":\"white\",\"showbackground\":true,\"ticks\":\"\",\"zerolinecolor\":\"white\"}},\"shapedefaults\":{\"line\":{\"color\":\"#2a3f5f\"}},\"ternary\":{\"aaxis\":{\"gridcolor\":\"white\",\"linecolor\":\"white\",\"ticks\":\"\"},\"baxis\":{\"gridcolor\":\"white\",\"linecolor\":\"white\",\"ticks\":\"\"},\"bgcolor\":\"#E5ECF6\",\"caxis\":{\"gridcolor\":\"white\",\"linecolor\":\"white\",\"ticks\":\"\"}},\"title\":{\"x\":0.05},\"xaxis\":{\"automargin\":true,\"gridcolor\":\"white\",\"linecolor\":\"white\",\"ticks\":\"\",\"title\":{\"standoff\":15},\"zerolinecolor\":\"white\",\"zerolinewidth\":2},\"yaxis\":{\"automargin\":true,\"gridcolor\":\"white\",\"linecolor\":\"white\",\"ticks\":\"\",\"title\":{\"standoff\":15},\"zerolinecolor\":\"white\",\"zerolinewidth\":2}}},\"xaxis\":{\"anchor\":\"y\",\"domain\":[0.0,1.0],\"title\":{\"text\":\"Input Size (Bytes)\"},\"type\":\"category\"},\"yaxis\":{\"anchor\":\"x\",\"domain\":[0.0,1.0],\"title\":{\"text\":\"Compression Factor\"}},\"legend\":{\"title\":{\"text\":\"variable\"},\"tracegroupgap\":0},\"title\":{\"text\":\"Compression - Ascending <class 'numpy.int32'>\"}},                        {\"responsive\": true}                    ).then(function(){\n",
       "                            \n",
       "var gd = document.getElementById('15b3938e-8aff-41eb-9bcb-c33a8ae499cf');\n",
       "var x = new MutationObserver(function (mutations, observer) {{\n",
       "        var display = window.getComputedStyle(gd).display;\n",
       "        if (!display || display === 'none') {{\n",
       "            console.log([gd, 'removed!']);\n",
       "            Plotly.purge(gd);\n",
       "            observer.disconnect();\n",
       "        }}\n",
       "}});\n",
       "\n",
       "// Listen for the removal of the full notebook cells\n",
       "var notebookContainer = gd.closest('#notebook-container');\n",
       "if (notebookContainer) {{\n",
       "    x.observe(notebookContainer, {childList: true});\n",
       "}}\n",
       "\n",
       "// Listen for the clearing of the current output cell\n",
       "var outputEl = gd.closest('.output');\n",
       "if (outputEl) {{\n",
       "    x.observe(outputEl, {childList: true});\n",
       "}}\n",
       "\n",
       "                        })                };                });            </script>        </div>"
      ]
     },
     "metadata": {},
     "output_type": "display_data"
    }
   ],
   "source": [
    "import plotly.express as px\n",
    "title = 'Compression - ' + TARGET + \" \" + str(DTYPE)\n",
    "fig = px.line(df, x='Input Size (Bytes)',\n",
    "              y=[\n",
    "                  'Lz4 Gpu Compression Ratio',\n",
    "                  'Cascaded Compression Ratio',\n",
    "                  'Lz4 Host Compression Ratio'\n",
    "              ],\n",
    "              labels={'value': 'Compression Factor'},\n",
    "              title=title)\n",
    "fig.update_xaxes(type='category')\n",
    "fig.show()"
   ]
  },
  {
   "cell_type": "code",
   "execution_count": 62,
   "id": "2974481d-c277-4982-98f1-d407e48a5fe6",
   "metadata": {},
   "outputs": [
    {
     "data": {
      "application/vnd.plotly.v1+json": {
       "config": {
        "plotlyServerURL": "https://plot.ly"
       },
       "data": [
        {
         "hovertemplate": "variable=Cascaded Temp Buffer Size Ratio<br>Input Size (Bytes)=%{x}<br>temp / input size=%{y}<extra></extra>",
         "legendgroup": "Cascaded Temp Buffer Size Ratio",
         "line": {
          "color": "#636efa",
          "dash": "solid"
         },
         "marker": {
          "symbol": "circle"
         },
         "mode": "lines",
         "name": "Cascaded Temp Buffer Size Ratio",
         "orientation": "v",
         "showlegend": true,
         "type": "scatter",
         "x": [
          2013929216,
          1006964608,
          503482304,
          251741152,
          125870576,
          62935280,
          31467632,
          15733808,
          7866896,
          3933440,
          1966720,
          983360,
          491680,
          245840,
          122912,
          61456,
          30720,
          15360,
          7680,
          3840
         ],
         "xaxis": "x",
         "y": [
          3.005209413973763,
          3.005210430394789,
          3.005212717466233,
          3.005216783150337,
          3.005224914518545,
          3.0052432117565857,
          3.0083631332665894,
          3.016726275037804,
          3.0334525840941584,
          3.062772534982102,
          3.063032866905304,
          3.0635860722421087,
          3.0646924829157176,
          2.566905304262935,
          2.571335589690185,
          2.5801874511845875,
          2.6084635416666666,
          2.716927083333333,
          2.933854166666667,
          3.3677083333333333
         ],
         "yaxis": "y"
        },
        {
         "hovertemplate": "variable=Lz4 Temp Buffer Size Ratio<br>Input Size (Bytes)=%{x}<br>temp / input size=%{y}<extra></extra>",
         "legendgroup": "Lz4 Temp Buffer Size Ratio",
         "line": {
          "color": "#EF553B",
          "dash": "solid"
         },
         "marker": {
          "symbol": "circle"
         },
         "mode": "lines",
         "name": "Lz4 Temp Buffer Size Ratio",
         "orientation": "v",
         "showlegend": true,
         "type": "scatter",
         "x": [
          2013929216,
          1006964608,
          503482304,
          251741152,
          125870576,
          62935280,
          31467632,
          15733808,
          7866896,
          3933440,
          1966720,
          983360,
          491680,
          245840,
          122912,
          61456,
          30720,
          15360,
          7680,
          3840
         ],
         "xaxis": "x",
         "y": [
          1.5045603941424721,
          1.5046098611243346,
          1.504610622819427,
          1.5048084907468764,
          1.5048125544448132,
          1.5056042175390338,
          1.5071875443312672,
          1.5103542003309052,
          1.5166875219908844,
          1.529354203953791,
          1.5546813984705499,
          1.6053357875040677,
          1.606376098275301,
          1.6084567198177677,
          1.6127229237177818,
          1.6210459515751106,
          3.242936197916667,
          6.485872395833334,
          12.971744791666667,
          25.943489583333335
         ],
         "yaxis": "y"
        }
       ],
       "layout": {
        "autosize": true,
        "legend": {
         "title": {
          "text": "variable"
         },
         "tracegroupgap": 0
        },
        "template": {
         "data": {
          "bar": [
           {
            "error_x": {
             "color": "#2a3f5f"
            },
            "error_y": {
             "color": "#2a3f5f"
            },
            "marker": {
             "line": {
              "color": "#E5ECF6",
              "width": 0.5
             },
             "pattern": {
              "fillmode": "overlay",
              "size": 10,
              "solidity": 0.2
             }
            },
            "type": "bar"
           }
          ],
          "barpolar": [
           {
            "marker": {
             "line": {
              "color": "#E5ECF6",
              "width": 0.5
             },
             "pattern": {
              "fillmode": "overlay",
              "size": 10,
              "solidity": 0.2
             }
            },
            "type": "barpolar"
           }
          ],
          "carpet": [
           {
            "aaxis": {
             "endlinecolor": "#2a3f5f",
             "gridcolor": "white",
             "linecolor": "white",
             "minorgridcolor": "white",
             "startlinecolor": "#2a3f5f"
            },
            "baxis": {
             "endlinecolor": "#2a3f5f",
             "gridcolor": "white",
             "linecolor": "white",
             "minorgridcolor": "white",
             "startlinecolor": "#2a3f5f"
            },
            "type": "carpet"
           }
          ],
          "choropleth": [
           {
            "colorbar": {
             "outlinewidth": 0,
             "ticks": ""
            },
            "type": "choropleth"
           }
          ],
          "contour": [
           {
            "colorbar": {
             "outlinewidth": 0,
             "ticks": ""
            },
            "colorscale": [
             [
              0,
              "#0d0887"
             ],
             [
              0.1111111111111111,
              "#46039f"
             ],
             [
              0.2222222222222222,
              "#7201a8"
             ],
             [
              0.3333333333333333,
              "#9c179e"
             ],
             [
              0.4444444444444444,
              "#bd3786"
             ],
             [
              0.5555555555555556,
              "#d8576b"
             ],
             [
              0.6666666666666666,
              "#ed7953"
             ],
             [
              0.7777777777777778,
              "#fb9f3a"
             ],
             [
              0.8888888888888888,
              "#fdca26"
             ],
             [
              1,
              "#f0f921"
             ]
            ],
            "type": "contour"
           }
          ],
          "contourcarpet": [
           {
            "colorbar": {
             "outlinewidth": 0,
             "ticks": ""
            },
            "type": "contourcarpet"
           }
          ],
          "heatmap": [
           {
            "colorbar": {
             "outlinewidth": 0,
             "ticks": ""
            },
            "colorscale": [
             [
              0,
              "#0d0887"
             ],
             [
              0.1111111111111111,
              "#46039f"
             ],
             [
              0.2222222222222222,
              "#7201a8"
             ],
             [
              0.3333333333333333,
              "#9c179e"
             ],
             [
              0.4444444444444444,
              "#bd3786"
             ],
             [
              0.5555555555555556,
              "#d8576b"
             ],
             [
              0.6666666666666666,
              "#ed7953"
             ],
             [
              0.7777777777777778,
              "#fb9f3a"
             ],
             [
              0.8888888888888888,
              "#fdca26"
             ],
             [
              1,
              "#f0f921"
             ]
            ],
            "type": "heatmap"
           }
          ],
          "heatmapgl": [
           {
            "colorbar": {
             "outlinewidth": 0,
             "ticks": ""
            },
            "colorscale": [
             [
              0,
              "#0d0887"
             ],
             [
              0.1111111111111111,
              "#46039f"
             ],
             [
              0.2222222222222222,
              "#7201a8"
             ],
             [
              0.3333333333333333,
              "#9c179e"
             ],
             [
              0.4444444444444444,
              "#bd3786"
             ],
             [
              0.5555555555555556,
              "#d8576b"
             ],
             [
              0.6666666666666666,
              "#ed7953"
             ],
             [
              0.7777777777777778,
              "#fb9f3a"
             ],
             [
              0.8888888888888888,
              "#fdca26"
             ],
             [
              1,
              "#f0f921"
             ]
            ],
            "type": "heatmapgl"
           }
          ],
          "histogram": [
           {
            "marker": {
             "pattern": {
              "fillmode": "overlay",
              "size": 10,
              "solidity": 0.2
             }
            },
            "type": "histogram"
           }
          ],
          "histogram2d": [
           {
            "colorbar": {
             "outlinewidth": 0,
             "ticks": ""
            },
            "colorscale": [
             [
              0,
              "#0d0887"
             ],
             [
              0.1111111111111111,
              "#46039f"
             ],
             [
              0.2222222222222222,
              "#7201a8"
             ],
             [
              0.3333333333333333,
              "#9c179e"
             ],
             [
              0.4444444444444444,
              "#bd3786"
             ],
             [
              0.5555555555555556,
              "#d8576b"
             ],
             [
              0.6666666666666666,
              "#ed7953"
             ],
             [
              0.7777777777777778,
              "#fb9f3a"
             ],
             [
              0.8888888888888888,
              "#fdca26"
             ],
             [
              1,
              "#f0f921"
             ]
            ],
            "type": "histogram2d"
           }
          ],
          "histogram2dcontour": [
           {
            "colorbar": {
             "outlinewidth": 0,
             "ticks": ""
            },
            "colorscale": [
             [
              0,
              "#0d0887"
             ],
             [
              0.1111111111111111,
              "#46039f"
             ],
             [
              0.2222222222222222,
              "#7201a8"
             ],
             [
              0.3333333333333333,
              "#9c179e"
             ],
             [
              0.4444444444444444,
              "#bd3786"
             ],
             [
              0.5555555555555556,
              "#d8576b"
             ],
             [
              0.6666666666666666,
              "#ed7953"
             ],
             [
              0.7777777777777778,
              "#fb9f3a"
             ],
             [
              0.8888888888888888,
              "#fdca26"
             ],
             [
              1,
              "#f0f921"
             ]
            ],
            "type": "histogram2dcontour"
           }
          ],
          "mesh3d": [
           {
            "colorbar": {
             "outlinewidth": 0,
             "ticks": ""
            },
            "type": "mesh3d"
           }
          ],
          "parcoords": [
           {
            "line": {
             "colorbar": {
              "outlinewidth": 0,
              "ticks": ""
             }
            },
            "type": "parcoords"
           }
          ],
          "pie": [
           {
            "automargin": true,
            "type": "pie"
           }
          ],
          "scatter": [
           {
            "marker": {
             "colorbar": {
              "outlinewidth": 0,
              "ticks": ""
             }
            },
            "type": "scatter"
           }
          ],
          "scatter3d": [
           {
            "line": {
             "colorbar": {
              "outlinewidth": 0,
              "ticks": ""
             }
            },
            "marker": {
             "colorbar": {
              "outlinewidth": 0,
              "ticks": ""
             }
            },
            "type": "scatter3d"
           }
          ],
          "scattercarpet": [
           {
            "marker": {
             "colorbar": {
              "outlinewidth": 0,
              "ticks": ""
             }
            },
            "type": "scattercarpet"
           }
          ],
          "scattergeo": [
           {
            "marker": {
             "colorbar": {
              "outlinewidth": 0,
              "ticks": ""
             }
            },
            "type": "scattergeo"
           }
          ],
          "scattergl": [
           {
            "marker": {
             "colorbar": {
              "outlinewidth": 0,
              "ticks": ""
             }
            },
            "type": "scattergl"
           }
          ],
          "scattermapbox": [
           {
            "marker": {
             "colorbar": {
              "outlinewidth": 0,
              "ticks": ""
             }
            },
            "type": "scattermapbox"
           }
          ],
          "scatterpolar": [
           {
            "marker": {
             "colorbar": {
              "outlinewidth": 0,
              "ticks": ""
             }
            },
            "type": "scatterpolar"
           }
          ],
          "scatterpolargl": [
           {
            "marker": {
             "colorbar": {
              "outlinewidth": 0,
              "ticks": ""
             }
            },
            "type": "scatterpolargl"
           }
          ],
          "scatterternary": [
           {
            "marker": {
             "colorbar": {
              "outlinewidth": 0,
              "ticks": ""
             }
            },
            "type": "scatterternary"
           }
          ],
          "surface": [
           {
            "colorbar": {
             "outlinewidth": 0,
             "ticks": ""
            },
            "colorscale": [
             [
              0,
              "#0d0887"
             ],
             [
              0.1111111111111111,
              "#46039f"
             ],
             [
              0.2222222222222222,
              "#7201a8"
             ],
             [
              0.3333333333333333,
              "#9c179e"
             ],
             [
              0.4444444444444444,
              "#bd3786"
             ],
             [
              0.5555555555555556,
              "#d8576b"
             ],
             [
              0.6666666666666666,
              "#ed7953"
             ],
             [
              0.7777777777777778,
              "#fb9f3a"
             ],
             [
              0.8888888888888888,
              "#fdca26"
             ],
             [
              1,
              "#f0f921"
             ]
            ],
            "type": "surface"
           }
          ],
          "table": [
           {
            "cells": {
             "fill": {
              "color": "#EBF0F8"
             },
             "line": {
              "color": "white"
             }
            },
            "header": {
             "fill": {
              "color": "#C8D4E3"
             },
             "line": {
              "color": "white"
             }
            },
            "type": "table"
           }
          ]
         },
         "layout": {
          "annotationdefaults": {
           "arrowcolor": "#2a3f5f",
           "arrowhead": 0,
           "arrowwidth": 1
          },
          "autotypenumbers": "strict",
          "coloraxis": {
           "colorbar": {
            "outlinewidth": 0,
            "ticks": ""
           }
          },
          "colorscale": {
           "diverging": [
            [
             0,
             "#8e0152"
            ],
            [
             0.1,
             "#c51b7d"
            ],
            [
             0.2,
             "#de77ae"
            ],
            [
             0.3,
             "#f1b6da"
            ],
            [
             0.4,
             "#fde0ef"
            ],
            [
             0.5,
             "#f7f7f7"
            ],
            [
             0.6,
             "#e6f5d0"
            ],
            [
             0.7,
             "#b8e186"
            ],
            [
             0.8,
             "#7fbc41"
            ],
            [
             0.9,
             "#4d9221"
            ],
            [
             1,
             "#276419"
            ]
           ],
           "sequential": [
            [
             0,
             "#0d0887"
            ],
            [
             0.1111111111111111,
             "#46039f"
            ],
            [
             0.2222222222222222,
             "#7201a8"
            ],
            [
             0.3333333333333333,
             "#9c179e"
            ],
            [
             0.4444444444444444,
             "#bd3786"
            ],
            [
             0.5555555555555556,
             "#d8576b"
            ],
            [
             0.6666666666666666,
             "#ed7953"
            ],
            [
             0.7777777777777778,
             "#fb9f3a"
            ],
            [
             0.8888888888888888,
             "#fdca26"
            ],
            [
             1,
             "#f0f921"
            ]
           ],
           "sequentialminus": [
            [
             0,
             "#0d0887"
            ],
            [
             0.1111111111111111,
             "#46039f"
            ],
            [
             0.2222222222222222,
             "#7201a8"
            ],
            [
             0.3333333333333333,
             "#9c179e"
            ],
            [
             0.4444444444444444,
             "#bd3786"
            ],
            [
             0.5555555555555556,
             "#d8576b"
            ],
            [
             0.6666666666666666,
             "#ed7953"
            ],
            [
             0.7777777777777778,
             "#fb9f3a"
            ],
            [
             0.8888888888888888,
             "#fdca26"
            ],
            [
             1,
             "#f0f921"
            ]
           ]
          },
          "colorway": [
           "#636efa",
           "#EF553B",
           "#00cc96",
           "#ab63fa",
           "#FFA15A",
           "#19d3f3",
           "#FF6692",
           "#B6E880",
           "#FF97FF",
           "#FECB52"
          ],
          "font": {
           "color": "#2a3f5f"
          },
          "geo": {
           "bgcolor": "white",
           "lakecolor": "white",
           "landcolor": "#E5ECF6",
           "showlakes": true,
           "showland": true,
           "subunitcolor": "white"
          },
          "hoverlabel": {
           "align": "left"
          },
          "hovermode": "closest",
          "mapbox": {
           "style": "light"
          },
          "paper_bgcolor": "white",
          "plot_bgcolor": "#E5ECF6",
          "polar": {
           "angularaxis": {
            "gridcolor": "white",
            "linecolor": "white",
            "ticks": ""
           },
           "bgcolor": "#E5ECF6",
           "radialaxis": {
            "gridcolor": "white",
            "linecolor": "white",
            "ticks": ""
           }
          },
          "scene": {
           "xaxis": {
            "backgroundcolor": "#E5ECF6",
            "gridcolor": "white",
            "gridwidth": 2,
            "linecolor": "white",
            "showbackground": true,
            "ticks": "",
            "zerolinecolor": "white"
           },
           "yaxis": {
            "backgroundcolor": "#E5ECF6",
            "gridcolor": "white",
            "gridwidth": 2,
            "linecolor": "white",
            "showbackground": true,
            "ticks": "",
            "zerolinecolor": "white"
           },
           "zaxis": {
            "backgroundcolor": "#E5ECF6",
            "gridcolor": "white",
            "gridwidth": 2,
            "linecolor": "white",
            "showbackground": true,
            "ticks": "",
            "zerolinecolor": "white"
           }
          },
          "shapedefaults": {
           "line": {
            "color": "#2a3f5f"
           }
          },
          "ternary": {
           "aaxis": {
            "gridcolor": "white",
            "linecolor": "white",
            "ticks": ""
           },
           "baxis": {
            "gridcolor": "white",
            "linecolor": "white",
            "ticks": ""
           },
           "bgcolor": "#E5ECF6",
           "caxis": {
            "gridcolor": "white",
            "linecolor": "white",
            "ticks": ""
           }
          },
          "title": {
           "x": 0.05
          },
          "xaxis": {
           "automargin": true,
           "gridcolor": "white",
           "linecolor": "white",
           "ticks": "",
           "title": {
            "standoff": 15
           },
           "zerolinecolor": "white",
           "zerolinewidth": 2
          },
          "yaxis": {
           "automargin": true,
           "gridcolor": "white",
           "linecolor": "white",
           "ticks": "",
           "title": {
            "standoff": 15
           },
           "zerolinecolor": "white",
           "zerolinewidth": 2
          }
         }
        },
        "title": {
         "text": "Temp Buffer - Ascending"
        },
        "xaxis": {
         "anchor": "y",
         "autorange": true,
         "domain": [
          0,
          1
         ],
         "range": [
          0,
          19
         ],
         "title": {
          "text": "Input Size (Bytes)"
         },
         "type": "category"
        },
        "yaxis": {
         "anchor": "x",
         "autorange": true,
         "domain": [
          0,
          1
         ],
         "range": [
          0.14684210585409097,
          27.301207871621717
         ],
         "title": {
          "text": "temp / input size"
         },
         "type": "linear"
        }
       }
      },
      "image/png": "[encoded data removed]",
      "text/html": [
       "<div>                            <div id=\"3da6ac28-24bd-4e0a-8405-097b741aeeb2\" class=\"plotly-graph-div\" style=\"height:525px; width:100%;\"></div>            <script type=\"text/javascript\">                require([\"plotly\"], function(Plotly) {                    window.PLOTLYENV=window.PLOTLYENV || {};                                    if (document.getElementById(\"3da6ac28-24bd-4e0a-8405-097b741aeeb2\")) {                    Plotly.newPlot(                        \"3da6ac28-24bd-4e0a-8405-097b741aeeb2\",                        [{\"hovertemplate\":\"variable=Cascaded Temp Buffer Size Ratio<br>Input Size (Bytes)=%{x}<br>temp / input size=%{y}<extra></extra>\",\"legendgroup\":\"Cascaded Temp Buffer Size Ratio\",\"line\":{\"color\":\"#636efa\",\"dash\":\"solid\"},\"marker\":{\"symbol\":\"circle\"},\"mode\":\"lines\",\"name\":\"Cascaded Temp Buffer Size Ratio\",\"orientation\":\"v\",\"showlegend\":true,\"x\":[2013929216,1006964608,503482304,251741152,125870576,62935280,31467632,15733808,7866896,3933440,1966720,983360,491680,245840,122912,61456,30720,15360,7680,3840],\"xaxis\":\"x\",\"y\":[3.005209413973763,3.005210430394789,3.005212717466233,3.005216783150337,3.005224914518545,3.0052432117565857,3.0083631332665894,3.016726275037804,3.0334525840941584,3.062772534982102,3.063032866905304,3.0635860722421087,3.0646924829157176,2.566905304262935,2.571335589690185,2.5801874511845875,2.6084635416666666,2.716927083333333,2.933854166666667,3.3677083333333333],\"yaxis\":\"y\",\"type\":\"scatter\"},{\"hovertemplate\":\"variable=Lz4 Temp Buffer Size Ratio<br>Input Size (Bytes)=%{x}<br>temp / input size=%{y}<extra></extra>\",\"legendgroup\":\"Lz4 Temp Buffer Size Ratio\",\"line\":{\"color\":\"#EF553B\",\"dash\":\"solid\"},\"marker\":{\"symbol\":\"circle\"},\"mode\":\"lines\",\"name\":\"Lz4 Temp Buffer Size Ratio\",\"orientation\":\"v\",\"showlegend\":true,\"x\":[2013929216,1006964608,503482304,251741152,125870576,62935280,31467632,15733808,7866896,3933440,1966720,983360,491680,245840,122912,61456,30720,15360,7680,3840],\"xaxis\":\"x\",\"y\":[1.5045603941424721,1.5046098611243346,1.504610622819427,1.5048084907468764,1.5048125544448132,1.5056042175390338,1.5071875443312672,1.5103542003309052,1.5166875219908844,1.529354203953791,1.5546813984705499,1.6053357875040677,1.606376098275301,1.6084567198177677,1.6127229237177818,1.6210459515751106,3.242936197916667,6.485872395833334,12.971744791666667,25.943489583333335],\"yaxis\":\"y\",\"type\":\"scatter\"}],                        {\"template\":{\"data\":{\"bar\":[{\"error_x\":{\"color\":\"#2a3f5f\"},\"error_y\":{\"color\":\"#2a3f5f\"},\"marker\":{\"line\":{\"color\":\"#E5ECF6\",\"width\":0.5},\"pattern\":{\"fillmode\":\"overlay\",\"size\":10,\"solidity\":0.2}},\"type\":\"bar\"}],\"barpolar\":[{\"marker\":{\"line\":{\"color\":\"#E5ECF6\",\"width\":0.5},\"pattern\":{\"fillmode\":\"overlay\",\"size\":10,\"solidity\":0.2}},\"type\":\"barpolar\"}],\"carpet\":[{\"aaxis\":{\"endlinecolor\":\"#2a3f5f\",\"gridcolor\":\"white\",\"linecolor\":\"white\",\"minorgridcolor\":\"white\",\"startlinecolor\":\"#2a3f5f\"},\"baxis\":{\"endlinecolor\":\"#2a3f5f\",\"gridcolor\":\"white\",\"linecolor\":\"white\",\"minorgridcolor\":\"white\",\"startlinecolor\":\"#2a3f5f\"},\"type\":\"carpet\"}],\"choropleth\":[{\"colorbar\":{\"outlinewidth\":0,\"ticks\":\"\"},\"type\":\"choropleth\"}],\"contour\":[{\"colorbar\":{\"outlinewidth\":0,\"ticks\":\"\"},\"colorscale\":[[0.0,\"#0d0887\"],[0.1111111111111111,\"#46039f\"],[0.2222222222222222,\"#7201a8\"],[0.3333333333333333,\"#9c179e\"],[0.4444444444444444,\"#bd3786\"],[0.5555555555555556,\"#d8576b\"],[0.6666666666666666,\"#ed7953\"],[0.7777777777777778,\"#fb9f3a\"],[0.8888888888888888,\"#fdca26\"],[1.0,\"#f0f921\"]],\"type\":\"contour\"}],\"contourcarpet\":[{\"colorbar\":{\"outlinewidth\":0,\"ticks\":\"\"},\"type\":\"contourcarpet\"}],\"heatmap\":[{\"colorbar\":{\"outlinewidth\":0,\"ticks\":\"\"},\"colorscale\":[[0.0,\"#0d0887\"],[0.1111111111111111,\"#46039f\"],[0.2222222222222222,\"#7201a8\"],[0.3333333333333333,\"#9c179e\"],[0.4444444444444444,\"#bd3786\"],[0.5555555555555556,\"#d8576b\"],[0.6666666666666666,\"#ed7953\"],[0.7777777777777778,\"#fb9f3a\"],[0.8888888888888888,\"#fdca26\"],[1.0,\"#f0f921\"]],\"type\":\"heatmap\"}],\"heatmapgl\":[{\"colorbar\":{\"outlinewidth\":0,\"ticks\":\"\"},\"colorscale\":[[0.0,\"#0d0887\"],[0.1111111111111111,\"#46039f\"],[0.2222222222222222,\"#7201a8\"],[0.3333333333333333,\"#9c179e\"],[0.4444444444444444,\"#bd3786\"],[0.5555555555555556,\"#d8576b\"],[0.6666666666666666,\"#ed7953\"],[0.7777777777777778,\"#fb9f3a\"],[0.8888888888888888,\"#fdca26\"],[1.0,\"#f0f921\"]],\"type\":\"heatmapgl\"}],\"histogram\":[{\"marker\":{\"pattern\":{\"fillmode\":\"overlay\",\"size\":10,\"solidity\":0.2}},\"type\":\"histogram\"}],\"histogram2d\":[{\"colorbar\":{\"outlinewidth\":0,\"ticks\":\"\"},\"colorscale\":[[0.0,\"#0d0887\"],[0.1111111111111111,\"#46039f\"],[0.2222222222222222,\"#7201a8\"],[0.3333333333333333,\"#9c179e\"],[0.4444444444444444,\"#bd3786\"],[0.5555555555555556,\"#d8576b\"],[0.6666666666666666,\"#ed7953\"],[0.7777777777777778,\"#fb9f3a\"],[0.8888888888888888,\"#fdca26\"],[1.0,\"#f0f921\"]],\"type\":\"histogram2d\"}],\"histogram2dcontour\":[{\"colorbar\":{\"outlinewidth\":0,\"ticks\":\"\"},\"colorscale\":[[0.0,\"#0d0887\"],[0.1111111111111111,\"#46039f\"],[0.2222222222222222,\"#7201a8\"],[0.3333333333333333,\"#9c179e\"],[0.4444444444444444,\"#bd3786\"],[0.5555555555555556,\"#d8576b\"],[0.6666666666666666,\"#ed7953\"],[0.7777777777777778,\"#fb9f3a\"],[0.8888888888888888,\"#fdca26\"],[1.0,\"#f0f921\"]],\"type\":\"histogram2dcontour\"}],\"mesh3d\":[{\"colorbar\":{\"outlinewidth\":0,\"ticks\":\"\"},\"type\":\"mesh3d\"}],\"parcoords\":[{\"line\":{\"colorbar\":{\"outlinewidth\":0,\"ticks\":\"\"}},\"type\":\"parcoords\"}],\"pie\":[{\"automargin\":true,\"type\":\"pie\"}],\"scatter\":[{\"marker\":{\"colorbar\":{\"outlinewidth\":0,\"ticks\":\"\"}},\"type\":\"scatter\"}],\"scatter3d\":[{\"line\":{\"colorbar\":{\"outlinewidth\":0,\"ticks\":\"\"}},\"marker\":{\"colorbar\":{\"outlinewidth\":0,\"ticks\":\"\"}},\"type\":\"scatter3d\"}],\"scattercarpet\":[{\"marker\":{\"colorbar\":{\"outlinewidth\":0,\"ticks\":\"\"}},\"type\":\"scattercarpet\"}],\"scattergeo\":[{\"marker\":{\"colorbar\":{\"outlinewidth\":0,\"ticks\":\"\"}},\"type\":\"scattergeo\"}],\"scattergl\":[{\"marker\":{\"colorbar\":{\"outlinewidth\":0,\"ticks\":\"\"}},\"type\":\"scattergl\"}],\"scattermapbox\":[{\"marker\":{\"colorbar\":{\"outlinewidth\":0,\"ticks\":\"\"}},\"type\":\"scattermapbox\"}],\"scatterpolar\":[{\"marker\":{\"colorbar\":{\"outlinewidth\":0,\"ticks\":\"\"}},\"type\":\"scatterpolar\"}],\"scatterpolargl\":[{\"marker\":{\"colorbar\":{\"outlinewidth\":0,\"ticks\":\"\"}},\"type\":\"scatterpolargl\"}],\"scatterternary\":[{\"marker\":{\"colorbar\":{\"outlinewidth\":0,\"ticks\":\"\"}},\"type\":\"scatterternary\"}],\"surface\":[{\"colorbar\":{\"outlinewidth\":0,\"ticks\":\"\"},\"colorscale\":[[0.0,\"#0d0887\"],[0.1111111111111111,\"#46039f\"],[0.2222222222222222,\"#7201a8\"],[0.3333333333333333,\"#9c179e\"],[0.4444444444444444,\"#bd3786\"],[0.5555555555555556,\"#d8576b\"],[0.6666666666666666,\"#ed7953\"],[0.7777777777777778,\"#fb9f3a\"],[0.8888888888888888,\"#fdca26\"],[1.0,\"#f0f921\"]],\"type\":\"surface\"}],\"table\":[{\"cells\":{\"fill\":{\"color\":\"#EBF0F8\"},\"line\":{\"color\":\"white\"}},\"header\":{\"fill\":{\"color\":\"#C8D4E3\"},\"line\":{\"color\":\"white\"}},\"type\":\"table\"}]},\"layout\":{\"annotationdefaults\":{\"arrowcolor\":\"#2a3f5f\",\"arrowhead\":0,\"arrowwidth\":1},\"autotypenumbers\":\"strict\",\"coloraxis\":{\"colorbar\":{\"outlinewidth\":0,\"ticks\":\"\"}},\"colorscale\":{\"diverging\":[[0,\"#8e0152\"],[0.1,\"#c51b7d\"],[0.2,\"#de77ae\"],[0.3,\"#f1b6da\"],[0.4,\"#fde0ef\"],[0.5,\"#f7f7f7\"],[0.6,\"#e6f5d0\"],[0.7,\"#b8e186\"],[0.8,\"#7fbc41\"],[0.9,\"#4d9221\"],[1,\"#276419\"]],\"sequential\":[[0.0,\"#0d0887\"],[0.1111111111111111,\"#46039f\"],[0.2222222222222222,\"#7201a8\"],[0.3333333333333333,\"#9c179e\"],[0.4444444444444444,\"#bd3786\"],[0.5555555555555556,\"#d8576b\"],[0.6666666666666666,\"#ed7953\"],[0.7777777777777778,\"#fb9f3a\"],[0.8888888888888888,\"#fdca26\"],[1.0,\"#f0f921\"]],\"sequentialminus\":[[0.0,\"#0d0887\"],[0.1111111111111111,\"#46039f\"],[0.2222222222222222,\"#7201a8\"],[0.3333333333333333,\"#9c179e\"],[0.4444444444444444,\"#bd3786\"],[0.5555555555555556,\"#d8576b\"],[0.6666666666666666,\"#ed7953\"],[0.7777777777777778,\"#fb9f3a\"],[0.8888888888888888,\"#fdca26\"],[1.0,\"#f0f921\"]]},\"colorway\":[\"#636efa\",\"#EF553B\",\"#00cc96\",\"#ab63fa\",\"#FFA15A\",\"#19d3f3\",\"#FF6692\",\"#B6E880\",\"#FF97FF\",\"#FECB52\"],\"font\":{\"color\":\"#2a3f5f\"},\"geo\":{\"bgcolor\":\"white\",\"lakecolor\":\"white\",\"landcolor\":\"#E5ECF6\",\"showlakes\":true,\"showland\":true,\"subunitcolor\":\"white\"},\"hoverlabel\":{\"align\":\"left\"},\"hovermode\":\"closest\",\"mapbox\":{\"style\":\"light\"},\"paper_bgcolor\":\"white\",\"plot_bgcolor\":\"#E5ECF6\",\"polar\":{\"angularaxis\":{\"gridcolor\":\"white\",\"linecolor\":\"white\",\"ticks\":\"\"},\"bgcolor\":\"#E5ECF6\",\"radialaxis\":{\"gridcolor\":\"white\",\"linecolor\":\"white\",\"ticks\":\"\"}},\"scene\":{\"xaxis\":{\"backgroundcolor\":\"#E5ECF6\",\"gridcolor\":\"white\",\"gridwidth\":2,\"linecolor\":\"white\",\"showbackground\":true,\"ticks\":\"\",\"zerolinecolor\":\"white\"},\"yaxis\":{\"backgroundcolor\":\"#E5ECF6\",\"gridcolor\":\"white\",\"gridwidth\":2,\"linecolor\":\"white\",\"showbackground\":true,\"ticks\":\"\",\"zerolinecolor\":\"white\"},\"zaxis\":{\"backgroundcolor\":\"#E5ECF6\",\"gridcolor\":\"white\",\"gridwidth\":2,\"linecolor\":\"white\",\"showbackground\":true,\"ticks\":\"\",\"zerolinecolor\":\"white\"}},\"shapedefaults\":{\"line\":{\"color\":\"#2a3f5f\"}},\"ternary\":{\"aaxis\":{\"gridcolor\":\"white\",\"linecolor\":\"white\",\"ticks\":\"\"},\"baxis\":{\"gridcolor\":\"white\",\"linecolor\":\"white\",\"ticks\":\"\"},\"bgcolor\":\"#E5ECF6\",\"caxis\":{\"gridcolor\":\"white\",\"linecolor\":\"white\",\"ticks\":\"\"}},\"title\":{\"x\":0.05},\"xaxis\":{\"automargin\":true,\"gridcolor\":\"white\",\"linecolor\":\"white\",\"ticks\":\"\",\"title\":{\"standoff\":15},\"zerolinecolor\":\"white\",\"zerolinewidth\":2},\"yaxis\":{\"automargin\":true,\"gridcolor\":\"white\",\"linecolor\":\"white\",\"ticks\":\"\",\"title\":{\"standoff\":15},\"zerolinecolor\":\"white\",\"zerolinewidth\":2}}},\"xaxis\":{\"anchor\":\"y\",\"domain\":[0.0,1.0],\"title\":{\"text\":\"Input Size (Bytes)\"},\"type\":\"category\"},\"yaxis\":{\"anchor\":\"x\",\"domain\":[0.0,1.0],\"title\":{\"text\":\"temp / input size\"}},\"legend\":{\"title\":{\"text\":\"variable\"},\"tracegroupgap\":0},\"title\":{\"text\":\"Temp Buffer - Ascending\"}},                        {\"responsive\": true}                    ).then(function(){\n",
       "                            \n",
       "var gd = document.getElementById('3da6ac28-24bd-4e0a-8405-097b741aeeb2');\n",
       "var x = new MutationObserver(function (mutations, observer) {{\n",
       "        var display = window.getComputedStyle(gd).display;\n",
       "        if (!display || display === 'none') {{\n",
       "            console.log([gd, 'removed!']);\n",
       "            Plotly.purge(gd);\n",
       "            observer.disconnect();\n",
       "        }}\n",
       "}});\n",
       "\n",
       "// Listen for the removal of the full notebook cells\n",
       "var notebookContainer = gd.closest('#notebook-container');\n",
       "if (notebookContainer) {{\n",
       "    x.observe(notebookContainer, {childList: true});\n",
       "}}\n",
       "\n",
       "// Listen for the clearing of the current output cell\n",
       "var outputEl = gd.closest('.output');\n",
       "if (outputEl) {{\n",
       "    x.observe(outputEl, {childList: true});\n",
       "}}\n",
       "\n",
       "                        })                };                });            </script>        </div>"
      ]
     },
     "metadata": {},
     "output_type": "display_data"
    }
   ],
   "source": [
    "import plotly.express as px\n",
    "title = 'Temp Buffer - ' + TARGET\n",
    "fig = px.line(df, x='Input Size (Bytes)',\n",
    "              y=[\n",
    "                  'Cascaded Temp Buffer Size Ratio',\n",
    "                  'Lz4 Temp Buffer Size Ratio'\n",
    "              ],\n",
    "              labels={'value': 'temp / input size'},\n",
    "              title=title)\n",
    "fig.update_xaxes(type='category')\n",
    "fig.show()"
   ]
  },
  {
   "cell_type": "code",
   "execution_count": null,
   "id": "c98862f5-032c-4fe3-b035-39efffdab22b",
   "metadata": {},
   "outputs": [],
   "source": []
  },
  {
   "cell_type": "code",
   "execution_count": null,
   "id": "4e2a27f5-1ab1-44f5-9634-0cfe0148bfc4",
   "metadata": {},
   "outputs": [],
   "source": []
  },
  {
   "cell_type": "code",
   "execution_count": null,
   "id": "ea9d5f9c-4ff3-46e1-9290-f63f1ce0f27f",
   "metadata": {},
   "outputs": [],
   "source": []
  },
  {
   "cell_type": "code",
   "execution_count": null,
   "id": "02c155f7-80bd-40f6-b06f-b6054ada404d",
   "metadata": {},
   "outputs": [],
   "source": []
  }
 ],
 "metadata": {
  "kernelspec": {
   "display_name": "Python 3 (ipykernel)",
   "language": "python",
   "name": "python3"
  },
  "language_info": {
   "codemirror_mode": {
    "name": "ipython",
    "version": 3
   },
   "file_extension": ".py",
   "mimetype": "text/x-python",
   "name": "python",
   "nbconvert_exporter": "python",
   "pygments_lexer": "ipython3",
   "version": "3.8.12"
  }
 },
 "nbformat": 4,
 "nbformat_minor": 5
}
